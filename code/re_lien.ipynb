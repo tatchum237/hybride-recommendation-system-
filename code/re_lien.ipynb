{
 "cells": [
  {
   "cell_type": "code",
   "execution_count": 1,
   "metadata": {},
   "outputs": [],
   "source": [
    "from selenium import webdriver\n",
    "from selenium.webdriver.common.by import By\n",
    "import time\n",
    "from bs4 import BeautifulSoup\n",
    "import pandas as pd\n",
    "import os\n",
    "import random\n",
    "from random import choice\n",
    "import geocoder\n",
    "\n",
    "import requests\n",
    "from fake_useragent import UserAgent"
   ]
  },
  {
   "cell_type": "code",
   "execution_count": 2,
   "metadata": {},
   "outputs": [],
   "source": [
    "dat = pd.read_csv('attraction_reviews.csv')"
   ]
  },
  {
   "cell_type": "code",
   "execution_count": 3,
   "metadata": {},
   "outputs": [
    {
     "data": {
      "text/html": [
       "<div>\n",
       "<style scoped>\n",
       "    .dataframe tbody tr th:only-of-type {\n",
       "        vertical-align: middle;\n",
       "    }\n",
       "\n",
       "    .dataframe tbody tr th {\n",
       "        vertical-align: top;\n",
       "    }\n",
       "\n",
       "    .dataframe thead th {\n",
       "        text-align: right;\n",
       "    }\n",
       "</style>\n",
       "<table border=\"1\" class=\"dataframe\">\n",
       "  <thead>\n",
       "    <tr style=\"text-align: right;\">\n",
       "      <th></th>\n",
       "      <th>image_user</th>\n",
       "      <th>name_user</th>\n",
       "      <th>info_user</th>\n",
       "      <th>type_review</th>\n",
       "      <th>date_review</th>\n",
       "      <th>text_review</th>\n",
       "      <th>score_user</th>\n",
       "      <th>attraction_id</th>\n",
       "    </tr>\n",
       "  </thead>\n",
       "  <tbody>\n",
       "    <tr>\n",
       "      <th>12694</th>\n",
       "      <td>https://dynamic-media-cdn.tripadvisor.com/medi...</td>\n",
       "      <td>nypuck</td>\n",
       "      <td>Santa Fe, NM85 contributions</td>\n",
       "      <td>Come see where the Republicans live in NYC.</td>\n",
       "      <td>September 5, 2012</td>\n",
       "      <td>Walk the streets to see the upper class and th...</td>\n",
       "      <td>3.0</td>\n",
       "      <td>100</td>\n",
       "    </tr>\n",
       "    <tr>\n",
       "      <th>12695</th>\n",
       "      <td>https://dynamic-media-cdn.tripadvisor.com/medi...</td>\n",
       "      <td>Carol K</td>\n",
       "      <td>New York City, NY440 contributions</td>\n",
       "      <td>Nice for a walk</td>\n",
       "      <td>August 17, 2012</td>\n",
       "      <td>The houses along 5th Ave include some handsome...</td>\n",
       "      <td>3.0</td>\n",
       "      <td>100</td>\n",
       "    </tr>\n",
       "    <tr>\n",
       "      <th>12696</th>\n",
       "      <td>https://dynamic-media-cdn.tripadvisor.com/medi...</td>\n",
       "      <td>Pili_12</td>\n",
       "      <td>New York City, NY24 contributions</td>\n",
       "      <td>Nice to walk</td>\n",
       "      <td>June 18, 2012</td>\n",
       "      <td>although it may be too expensive to stop to ea...</td>\n",
       "      <td>5.0</td>\n",
       "      <td>100</td>\n",
       "    </tr>\n",
       "    <tr>\n",
       "      <th>12697</th>\n",
       "      <td>https://dynamic-media-cdn.tripadvisor.com/medi...</td>\n",
       "      <td>LazyPoint</td>\n",
       "      <td>New York City, NY235 contributions</td>\n",
       "      <td>I live here</td>\n",
       "      <td>June 11, 2012</td>\n",
       "      <td>Great museums and a few great restaurants (Caf...</td>\n",
       "      <td>5.0</td>\n",
       "      <td>100</td>\n",
       "    </tr>\n",
       "    <tr>\n",
       "      <th>12698</th>\n",
       "      <td>https://dynamic-media-cdn.tripadvisor.com/medi...</td>\n",
       "      <td>yourtravelchick</td>\n",
       "      <td>Ridgewood, NJ134 contributions</td>\n",
       "      <td>It's not just all Madison Ave!</td>\n",
       "      <td>March 13, 2012</td>\n",
       "      <td>I like to wander up through Central Park and t...</td>\n",
       "      <td>5.0</td>\n",
       "      <td>100</td>\n",
       "    </tr>\n",
       "  </tbody>\n",
       "</table>\n",
       "</div>"
      ],
      "text/plain": [
       "                                              image_user        name_user  \\\n",
       "12694  https://dynamic-media-cdn.tripadvisor.com/medi...           nypuck   \n",
       "12695  https://dynamic-media-cdn.tripadvisor.com/medi...          Carol K   \n",
       "12696  https://dynamic-media-cdn.tripadvisor.com/medi...          Pili_12   \n",
       "12697  https://dynamic-media-cdn.tripadvisor.com/medi...        LazyPoint   \n",
       "12698  https://dynamic-media-cdn.tripadvisor.com/medi...  yourtravelchick   \n",
       "\n",
       "                                info_user  \\\n",
       "12694        Santa Fe, NM85 contributions   \n",
       "12695  New York City, NY440 contributions   \n",
       "12696   New York City, NY24 contributions   \n",
       "12697  New York City, NY235 contributions   \n",
       "12698      Ridgewood, NJ134 contributions   \n",
       "\n",
       "                                       type_review        date_review  \\\n",
       "12694  Come see where the Republicans live in NYC.  September 5, 2012   \n",
       "12695                              Nice for a walk    August 17, 2012   \n",
       "12696                                 Nice to walk      June 18, 2012   \n",
       "12697                                  I live here      June 11, 2012   \n",
       "12698               It's not just all Madison Ave!     March 13, 2012   \n",
       "\n",
       "                                             text_review  score_user  \\\n",
       "12694  Walk the streets to see the upper class and th...         3.0   \n",
       "12695  The houses along 5th Ave include some handsome...         3.0   \n",
       "12696  although it may be too expensive to stop to ea...         5.0   \n",
       "12697  Great museums and a few great restaurants (Caf...         5.0   \n",
       "12698  I like to wander up through Central Park and t...         5.0   \n",
       "\n",
       "       attraction_id  \n",
       "12694            100  \n",
       "12695            100  \n",
       "12696            100  \n",
       "12697            100  \n",
       "12698            100  "
      ]
     },
     "execution_count": 3,
     "metadata": {},
     "output_type": "execute_result"
    }
   ],
   "source": [
    "dat.tail(5)"
   ]
  },
  {
   "cell_type": "code",
   "execution_count": 4,
   "metadata": {},
   "outputs": [
    {
     "data": {
      "text/plain": [
       "(12699, 8)"
      ]
     },
     "execution_count": 4,
     "metadata": {},
     "output_type": "execute_result"
    }
   ],
   "source": [
    "dat.shape"
   ]
  },
  {
   "cell_type": "code",
   "execution_count": 5,
   "metadata": {},
   "outputs": [
    {
     "data": {
      "text/plain": [
       "image_user       1167\n",
       "name_user           0\n",
       "info_user           0\n",
       "type_review         0\n",
       "date_review         0\n",
       "text_review         0\n",
       "score_user          0\n",
       "attraction_id       0\n",
       "dtype: int64"
      ]
     },
     "execution_count": 5,
     "metadata": {},
     "output_type": "execute_result"
    }
   ],
   "source": [
    "dat.isnull().sum()"
   ]
  },
  {
   "cell_type": "code",
   "execution_count": 4,
   "metadata": {},
   "outputs": [],
   "source": [
    "data = pd.read_csv('attractions_data1.csv')"
   ]
  },
  {
   "cell_type": "code",
   "execution_count": 5,
   "metadata": {},
   "outputs": [
    {
     "data": {
      "text/plain": [
       "(150, 15)"
      ]
     },
     "execution_count": 5,
     "metadata": {},
     "output_type": "execute_result"
    }
   ],
   "source": [
    "data.shape"
   ]
  },
  {
   "cell_type": "code",
   "execution_count": 8,
   "metadata": {},
   "outputs": [
    {
     "data": {
      "text/plain": [
       "attration_id    0\n",
       "country         0\n",
       "province        0\n",
       "city            0\n",
       "lien_detail     0\n",
       "image           0\n",
       "titre           0\n",
       "nbre_review     0\n",
       "address         0\n",
       "description     0\n",
       "score           0\n",
       "price           0\n",
       "dtype: int64"
      ]
     },
     "execution_count": 8,
     "metadata": {},
     "output_type": "execute_result"
    }
   ],
   "source": [
    "data.isnull().sum()"
   ]
  },
  {
   "cell_type": "code",
   "execution_count": 9,
   "metadata": {},
   "outputs": [
    {
     "data": {
      "text/html": [
       "<div>\n",
       "<style scoped>\n",
       "    .dataframe tbody tr th:only-of-type {\n",
       "        vertical-align: middle;\n",
       "    }\n",
       "\n",
       "    .dataframe tbody tr th {\n",
       "        vertical-align: top;\n",
       "    }\n",
       "\n",
       "    .dataframe thead th {\n",
       "        text-align: right;\n",
       "    }\n",
       "</style>\n",
       "<table border=\"1\" class=\"dataframe\">\n",
       "  <thead>\n",
       "    <tr style=\"text-align: right;\">\n",
       "      <th></th>\n",
       "      <th>attration_id</th>\n",
       "      <th>country</th>\n",
       "      <th>province</th>\n",
       "      <th>city</th>\n",
       "      <th>lien_detail</th>\n",
       "      <th>image</th>\n",
       "      <th>titre</th>\n",
       "      <th>nbre_review</th>\n",
       "      <th>address</th>\n",
       "      <th>description</th>\n",
       "      <th>score</th>\n",
       "      <th>price</th>\n",
       "    </tr>\n",
       "  </thead>\n",
       "  <tbody>\n",
       "    <tr>\n",
       "      <th>145</th>\n",
       "      <td>145</td>\n",
       "      <td>United States</td>\n",
       "      <td>New York (NY)</td>\n",
       "      <td>New York City</td>\n",
       "      <td>https://www.tripadvisor.com/Attraction_Review-...</td>\n",
       "      <td>['data:image/svg+xml;utf8,%3C%3Fxml%20version%...</td>\n",
       "      <td>146. The Metropolitan Opera</td>\n",
       "      <td>3106</td>\n",
       "      <td>{'lat': 40.77602386, 'lng': -73.98724365}</td>\n",
       "      <td>Operas • Theater &amp; Performances</td>\n",
       "      <td>5.0</td>\n",
       "      <td>100.0</td>\n",
       "    </tr>\n",
       "    <tr>\n",
       "      <th>146</th>\n",
       "      <td>146</td>\n",
       "      <td>United States</td>\n",
       "      <td>New York (NY)</td>\n",
       "      <td>New York City</td>\n",
       "      <td>https://www.tripadvisor.com/Attraction_Review-...</td>\n",
       "      <td>['data:image/svg+xml;utf8,%3C%3Fxml%20version%...</td>\n",
       "      <td>147. The Magician New York</td>\n",
       "      <td>524</td>\n",
       "      <td>{'lat': 40.74420166, 'lng': -73.98829651}</td>\n",
       "      <td>Theater &amp; Performances</td>\n",
       "      <td>5.0</td>\n",
       "      <td>-1.0</td>\n",
       "    </tr>\n",
       "    <tr>\n",
       "      <th>147</th>\n",
       "      <td>147</td>\n",
       "      <td>United States</td>\n",
       "      <td>New York (NY)</td>\n",
       "      <td>New York City</td>\n",
       "      <td>https://www.tripadvisor.com/Attraction_Review-...</td>\n",
       "      <td>['data:image/svg+xml;utf8,%3C%3Fxml%20version%...</td>\n",
       "      <td>148. The Phantom of the Opera</td>\n",
       "      <td>6086</td>\n",
       "      <td>{'lat': 40.75992584, 'lng': -73.98041534}</td>\n",
       "      <td>Operas • Theater &amp; Performances</td>\n",
       "      <td>4.5</td>\n",
       "      <td>-1.0</td>\n",
       "    </tr>\n",
       "    <tr>\n",
       "      <th>148</th>\n",
       "      <td>148</td>\n",
       "      <td>United States</td>\n",
       "      <td>New York (NY)</td>\n",
       "      <td>New York City</td>\n",
       "      <td>https://www.tripadvisor.com/Attraction_Review-...</td>\n",
       "      <td>['data:image/svg+xml;utf8,%3C%3Fxml%20version%...</td>\n",
       "      <td>149. Williamsburg Bridge</td>\n",
       "      <td>193</td>\n",
       "      <td>{'lat': 40.70780182, 'lng': -74.01190186}</td>\n",
       "      <td>Bridges</td>\n",
       "      <td>4.5</td>\n",
       "      <td>-1.0</td>\n",
       "    </tr>\n",
       "    <tr>\n",
       "      <th>149</th>\n",
       "      <td>149</td>\n",
       "      <td>United States</td>\n",
       "      <td>New York (NY)</td>\n",
       "      <td>New York City</td>\n",
       "      <td>https://www.tripadvisor.com/Attraction_Review-...</td>\n",
       "      <td>['data:image/svg+xml;utf8,%3C%3Fxml%20version%...</td>\n",
       "      <td>150. Pip's Island</td>\n",
       "      <td>80</td>\n",
       "      <td>{'lat': 40.75611115, 'lng': -74.00055695}</td>\n",
       "      <td>Theaters</td>\n",
       "      <td>5.0</td>\n",
       "      <td>-1.0</td>\n",
       "    </tr>\n",
       "  </tbody>\n",
       "</table>\n",
       "</div>"
      ],
      "text/plain": [
       "     attration_id        country       province           city  \\\n",
       "145           145  United States  New York (NY)  New York City   \n",
       "146           146  United States  New York (NY)  New York City   \n",
       "147           147  United States  New York (NY)  New York City   \n",
       "148           148  United States  New York (NY)  New York City   \n",
       "149           149  United States  New York (NY)  New York City   \n",
       "\n",
       "                                           lien_detail  \\\n",
       "145  https://www.tripadvisor.com/Attraction_Review-...   \n",
       "146  https://www.tripadvisor.com/Attraction_Review-...   \n",
       "147  https://www.tripadvisor.com/Attraction_Review-...   \n",
       "148  https://www.tripadvisor.com/Attraction_Review-...   \n",
       "149  https://www.tripadvisor.com/Attraction_Review-...   \n",
       "\n",
       "                                                 image  \\\n",
       "145  ['data:image/svg+xml;utf8,%3C%3Fxml%20version%...   \n",
       "146  ['data:image/svg+xml;utf8,%3C%3Fxml%20version%...   \n",
       "147  ['data:image/svg+xml;utf8,%3C%3Fxml%20version%...   \n",
       "148  ['data:image/svg+xml;utf8,%3C%3Fxml%20version%...   \n",
       "149  ['data:image/svg+xml;utf8,%3C%3Fxml%20version%...   \n",
       "\n",
       "                             titre  nbre_review  \\\n",
       "145    146. The Metropolitan Opera         3106   \n",
       "146     147. The Magician New York          524   \n",
       "147  148. The Phantom of the Opera         6086   \n",
       "148       149. Williamsburg Bridge          193   \n",
       "149              150. Pip's Island           80   \n",
       "\n",
       "                                       address  \\\n",
       "145  {'lat': 40.77602386, 'lng': -73.98724365}   \n",
       "146  {'lat': 40.74420166, 'lng': -73.98829651}   \n",
       "147  {'lat': 40.75992584, 'lng': -73.98041534}   \n",
       "148  {'lat': 40.70780182, 'lng': -74.01190186}   \n",
       "149  {'lat': 40.75611115, 'lng': -74.00055695}   \n",
       "\n",
       "                         description  score  price  \n",
       "145  Operas • Theater & Performances    5.0  100.0  \n",
       "146           Theater & Performances    5.0   -1.0  \n",
       "147  Operas • Theater & Performances    4.5   -1.0  \n",
       "148                          Bridges    4.5   -1.0  \n",
       "149                         Theaters    5.0   -1.0  "
      ]
     },
     "execution_count": 9,
     "metadata": {},
     "output_type": "execute_result"
    }
   ],
   "source": [
    "data.tail(5)"
   ]
  },
  {
   "cell_type": "code",
   "execution_count": null,
   "metadata": {},
   "outputs": [],
   "source": []
  },
  {
   "cell_type": "code",
   "execution_count": 12,
   "metadata": {},
   "outputs": [],
   "source": [
    "#get = data[['attration_id', 'lien_detail']][101:120] je m etais arrete a 100 la fois passé "
   ]
  },
  {
   "cell_type": "code",
   "execution_count": 9,
   "metadata": {},
   "outputs": [],
   "source": [
    "get = data[['attration_id', 'lien_detail']][101:105]    # ici jai continué a 101"
   ]
  },
  {
   "cell_type": "code",
   "execution_count": 10,
   "metadata": {},
   "outputs": [
    {
     "data": {
      "text/plain": [
       "'https://www.tripadvisor.com/AttractionProductReview-g60763-d24962419-City_Climb_The_Ultimate_Skyscraping_Adventure_at_Edge-New_York_City_New_York.html'"
      ]
     },
     "execution_count": 10,
     "metadata": {},
     "output_type": "execute_result"
    }
   ],
   "source": [
    "get['lien_detail'][101]"
   ]
  },
  {
   "cell_type": "code",
   "execution_count": 11,
   "metadata": {},
   "outputs": [
    {
     "data": {
      "text/html": [
       "<div>\n",
       "<style scoped>\n",
       "    .dataframe tbody tr th:only-of-type {\n",
       "        vertical-align: middle;\n",
       "    }\n",
       "\n",
       "    .dataframe tbody tr th {\n",
       "        vertical-align: top;\n",
       "    }\n",
       "\n",
       "    .dataframe thead th {\n",
       "        text-align: right;\n",
       "    }\n",
       "</style>\n",
       "<table border=\"1\" class=\"dataframe\">\n",
       "  <thead>\n",
       "    <tr style=\"text-align: right;\">\n",
       "      <th></th>\n",
       "      <th>attration_id</th>\n",
       "      <th>lien_detail</th>\n",
       "    </tr>\n",
       "  </thead>\n",
       "  <tbody>\n",
       "    <tr>\n",
       "      <th>101</th>\n",
       "      <td>101</td>\n",
       "      <td>https://www.tripadvisor.com/AttractionProductR...</td>\n",
       "    </tr>\n",
       "    <tr>\n",
       "      <th>102</th>\n",
       "      <td>102</td>\n",
       "      <td>https://www.tripadvisor.com/AttractionProductR...</td>\n",
       "    </tr>\n",
       "    <tr>\n",
       "      <th>103</th>\n",
       "      <td>103</td>\n",
       "      <td>https://www.tripadvisor.com/AttractionProductR...</td>\n",
       "    </tr>\n",
       "    <tr>\n",
       "      <th>104</th>\n",
       "      <td>104</td>\n",
       "      <td>https://www.tripadvisor.com/AttractionProductR...</td>\n",
       "    </tr>\n",
       "  </tbody>\n",
       "</table>\n",
       "</div>"
      ],
      "text/plain": [
       "     attration_id                                        lien_detail\n",
       "101           101  https://www.tripadvisor.com/AttractionProductR...\n",
       "102           102  https://www.tripadvisor.com/AttractionProductR...\n",
       "103           103  https://www.tripadvisor.com/AttractionProductR...\n",
       "104           104  https://www.tripadvisor.com/AttractionProductR..."
      ]
     },
     "execution_count": 11,
     "metadata": {},
     "output_type": "execute_result"
    }
   ],
   "source": [
    "get"
   ]
  },
  {
   "cell_type": "code",
   "execution_count": 14,
   "metadata": {},
   "outputs": [
    {
     "data": {
      "text/plain": [
       "19"
      ]
     },
     "execution_count": 14,
     "metadata": {},
     "output_type": "execute_result"
    }
   ],
   "source": [
    "ligne = get.shape[0]\n",
    "ligne"
   ]
  },
  {
   "cell_type": "code",
   "execution_count": 12,
   "metadata": {},
   "outputs": [],
   "source": [
    "def clean_text(text):\n",
    "    text = text.strip().strip('-')\n",
    "    text = text.lower()\n",
    "    text = '_'.join(text.split(' '))\n",
    "    return text"
   ]
  },
  {
   "cell_type": "code",
   "execution_count": 13,
   "metadata": {},
   "outputs": [],
   "source": [
    "def reform(url):\n",
    "    lien = url.split('Reviews')\n",
    "\n",
    "    return lien[0], lien[1]"
   ]
  },
  {
   "cell_type": "code",
   "execution_count": 14,
   "metadata": {},
   "outputs": [],
   "source": [
    "def getItem(item):\n",
    "    return item.getText().strip() if item is not None else None\n",
    " \n"
   ]
  },
  {
   "cell_type": "code",
   "execution_count": 15,
   "metadata": {},
   "outputs": [],
   "source": [
    "def scrapAllReviewsGet(url, attraction_id):\n",
    "    \n",
    "    items = []\n",
    "    user_agent = UserAgent()\n",
    "    userAgent = user_agent.random\n",
    "    Firefox_options = webdriver.EdgeOptions()\n",
    "    Firefox_options.add_argument(f'user-agent={userAgent}')\n",
    "    driver = webdriver.Edge(options=Firefox_options)\n",
    "    driver.get(url)\n",
    "    #driver.set_window_size(1080, 800)\n",
    "    time.sleep(random.uniform(5,17))\n",
    "    soup = BeautifulSoup(driver.page_source, 'html.parser')\n",
    "    \n",
    "    #card_reviews = soup.find('div', {\"class\", 'LbPSX'})\n",
    "    #reviews = card_reviews.find_all('div', {\"class\", '_c'})\n",
    "\n",
    "    reviews = soup.select('div[data-automation=\"tab\"] div.C div._c') #div_country.find_all('div', attrs={\"class\":\"KCGqk _T Cj\"}) \n",
    "\n",
    "    for review in reviews:\n",
    "        item = {}\n",
    "        photo_user = review.find('div', {\"class\", 'MLvbw f u'}) #\n",
    "        photo_user = photo_user.find('a', {'class', 'BMQDV _F Gv wSSLS SwZTJ'})\n",
    "\n",
    "       \n",
    "\n",
    "        try:\n",
    "            photo_user = photo_user.find('img')\n",
    "            item['image_user'] = photo_user['src'] \n",
    "        except:\n",
    "            item['image_user'] = ''\n",
    "             \n",
    "\n",
    "        \n",
    "        user = review.find('div', {\"class\", 'zpDvc Zb'})\n",
    "        item['name_user'] = getItem(user.find('span', {'class', 'biGQs _P fiohW fOtGX'}))\n",
    "        item['info_user'] = getItem(user.find('div', {'class', 'JINyA'}))\n",
    "        item['type_review'] = getItem(review.find('span', {'class': 'yCeTE'}))\n",
    "        item['date_review'] = getItem(review.find('div', {'class': 'biGQs _P pZUbB ncFvv osNWb'})).split(' ', 1)[1]\n",
    "        item['text_review'] = getItem(review.find('div', {'class': 'fIrGe _T bgMZj'}))\n",
    "        span_score = review.find('svg', {'class': 'UctUV d H0'})  #UctUV d H0\n",
    "        item['score_user'] = float(clean_text(span_score.get('aria-label')).replace('_of_5_bubbles',''))\n",
    "        item['attraction_id'] = attraction_id\n",
    "\n",
    "        #print(item)\n",
    "\n",
    "\n",
    "        items.append(item)\n",
    "    # appuye sur le bouton suivant et relancer la fonction pour scraper\n",
    "    \n",
    "    \n",
    "    print(f'nombre data scrapé: ', {len(items)})\n",
    "    driver.quit()\n",
    "\n",
    "    return items, len(items)\n",
    "\n",
    "\n"
   ]
  },
  {
   "cell_type": "code",
   "execution_count": 39,
   "metadata": {},
   "outputs": [],
   "source": [
    "from selenium import webdriver\n",
    "from selenium.webdriver.common.by import By\n",
    "import time\n",
    "from bs4 import BeautifulSoup\n",
    "import pandas as pd\n",
    "import os\n",
    "import random\n",
    "from random import choice\n",
    "import geocoder\n",
    "\n",
    "import requests\n",
    "from fake_useragent import UserAgent\n",
    "\n",
    "\n",
    "def scrapAllReviewsGet__(url, attraction_id):\n",
    "    \n",
    "    items = []\n",
    "    user_agent = UserAgent()\n",
    "    userAgent = user_agent.random\n",
    "    Firefox_options = webdriver.EdgeOptions()\n",
    "    Firefox_options.add_argument(f'user-agent={userAgent}')\n",
    "    driver = webdriver.Edge(options=Firefox_options)\n",
    "    driver.get(url)\n",
    "    #driver.set_window_size(1080, 800)\n",
    "    time.sleep(random.uniform(5,17))\n",
    "    soup = BeautifulSoup(driver.page_source, 'html.parser')\n",
    "    reviews = soup.find_all(\"span\", {\"class\", 'QewHA H4 _a'}) #div_country.find_all('div', attrs={\"class\":\"KCGqk _T Cj\"}) \n",
    "\n",
    "    for review in reviews:\n",
    "        print(review)\n",
    "        \n",
    "    driver.quit()\n",
    "\n",
    "    return items, len(reviews)"
   ]
  },
  {
   "cell_type": "code",
   "execution_count": 40,
   "metadata": {},
   "outputs": [
    {
     "name": "stdout",
     "output_type": "stream",
     "text": [
      "<span class=\"QewHA H4 _a\" data-test-target=\"review-text\"><span>For our first visit in New York we choose this location for its position, design and services. We are very satisfy after staying there and all our impression before the booking are respected. The room has a perfect layout compared to its size, and the bed is big and very comfortable. Rooftop bar is amazing. We don't see the gym and we not taste breakfast neither canteen. All the staff is very kind and helpful.</span></span>\n",
      "<span class=\"QewHA H4 _a\" data-test-target=\"review-text\"><span>Excellent central location for sight seeing. Was also very quiet and no issues with noise despite being so central. The rooms are very small and cramped for 2 people, the sink is outside the bathroom and the cabin style bathroom is awkward if you aren't used to sharing! However I raised my concerns to the concierge staff who were so helpful and accommodating and we were able to move to a bigger room, which had a fully enclosed  separate bathroom. I would recommend a bigger room if staying here. Breakfast wasn't great, very beige, so would give it a miss. We were able to fill up our water bottles at reception no issue. I would recommend staying here but only if you book a bigger room.</span></span>\n",
      "<span class=\"QewHA H4 _a\" data-test-target=\"review-text\"><span>Beds left me pain everywhere, I cannot sleep in these beds as a young professional which left me pretty struck. I came back home with back pain it was bad. Other than that amazing place and value, very modern and staff is so friendly.</span></span>\n",
      "<span class=\"QewHA H4 _a\" data-test-target=\"review-text\"><span>The hotel’s location is excellent! So close to Times Square and there are 2 subway stations right on the side of the hotel on where you can go to different locations.  Going to Central Park? It’s a 5 min walk!  The room was really clean with a good space.  </span></span>\n",
      "<span class=\"QewHA H4 _a\" data-test-target=\"review-text\"><span>Very efficient and friendly helpful staff. The hotel was clean and so close to everything - subway, walking distance to most attractions. The bed was so comfortable and the black out blinds were brilliant. We didn’t eat here so can’t comment there but on arrival our room wasn’t ready and they offered us a drink While we waited which was a lovely touch. </span></span>\n",
      "<span class=\"QewHA H4 _a\" data-test-target=\"review-text\"><span>I love this hotel, tight on Times Square. Very clean, modern. Staff so helpful and  happy. Roof top bar with a great view. The lobby so modern, clean and quiet. Ipad in the room worked perfectly, loved to be able to choose different moods on the Ipad and switch between tv channels. I will choose CitizenM every time from now on.The room might be a little bigger but it was totally ok by me.</span></span>\n",
      "<span class=\"QewHA H4 _a\" data-test-target=\"review-text\"><span>everything about this hotel was perfect &amp; suited our weekend break in NYC.  Close to all attractions, top class service &amp; querky room. The city view from our hotel room with the large window was a nice added bonus. we Loved it. </span></span>\n",
      "<span class=\"QewHA H4 _a\" data-test-target=\"review-text\"><span>Rooms were small, small, small, could not move around and for two people it was pretty cramped, thankfully we did not spend a lot of time in our room but it was hard for two people to get dressed.  Layout could have been better. Paid extra for breakfast it was ok.  Staff was very helpful and friendly.  Lobby area very modern and nice.  Hotel was clean and close to everything very walkable.  </span></span>\n",
      "<span class=\"QewHA H4 _a\" data-test-target=\"review-text\"><span>On a business trip with 8 people - we were told to get our own water while sitting and ordering at the bar, but the bar had to pour it anyway after our party got up and walked over just to find the self serve station not operational...  The elevator trapped people inside on our floor (6th), and the first hotel employee we found was very dismissive and barely responsive when we told them.   Feels like this hotel charges premium for a \"hi-tech\" and \"modern\" atmosphere but doesn't execute it as well as others in the area - an ipad controller and preset light \"moods\" do not make up for the lack of space, amenities, and service offered by other hotels nearby for the same price.   The camper-style bathroom, ship cabin-style and -sized rooms, the lack of personal and professional</span><span class=\"_\"> service, and the lack of in-room amenities (shared \"ironing room\" on the 2nd floor with one iron and ironing board for the entire hotel to share???) - this feels more like a hi-tech hostel trying to be a \"modern\" hotel.  Should not be at this price point nor advertised as a typical hotel. </span>…</span>\n",
      "<span class=\"QewHA H4 _a\" data-test-target=\"review-text\"><span>First impression was awesome, right in the heart of Time Square. Staff was very caring and understanding, felt like they cared about all your needs or concerns, no complaints. I would definitely recommend to family and friends. </span></span>\n"
     ]
    },
    {
     "data": {
      "text/plain": [
       "([], 10)"
      ]
     },
     "execution_count": 40,
     "metadata": {},
     "output_type": "execute_result"
    }
   ],
   "source": [
    "scrapAllReviewsGet__(\"https://www.tripadvisor.com/Hotel_Review-g60763-d6385164-Reviews-CitizenM_New_York_Times_Square-New_York_City_New_York.html#REVIEWS\", 1)"
   ]
  },
  {
   "cell_type": "code",
   "execution_count": 21,
   "metadata": {},
   "outputs": [
    {
     "name": "stdout",
     "output_type": "stream",
     "text": [
      "nombre data scrapé:  {5}\n"
     ]
    },
    {
     "data": {
      "text/plain": [
       "([{'image_user': 'https://dynamic-media-cdn.tripadvisor.com/media/photo-o/1a/f6/ee/10/default-avatar-2020-8.jpg?w=100&h=-1&s=1',\n",
       "   'name_user': 'cakeene',\n",
       "   'info_user': 'Columbia, KY1 contribution',\n",
       "   'type_review': 'Excellent service',\n",
       "   'date_review': 'July 10, 2020',\n",
       "   'text_review': 'It was amazing, it felt like, and I was treated like a rockstar. Everything was exactly how you imagine it, and service was top notch. It really set the tone for the whole trip.',\n",
       "   'score_user': 5.0,\n",
       "   'attraction_id': 0},\n",
       "  {'image_user': 'https://dynamic-media-cdn.tripadvisor.com/media/photo-o/1a/f6/e2/4a/default-avatar-2020-42.jpg?w=100&h=-1&s=1',\n",
       "   'name_user': 'Kristy K',\n",
       "   'info_user': '1 contribution',\n",
       "   'type_review': 'Great service!',\n",
       "   'date_review': 'July 10, 2020',\n",
       "   'text_review': 'Clean and friendly. Very impressed by the high quality of service. Would highly recommend. Overall a lovely experience.',\n",
       "   'score_user': 5.0,\n",
       "   'attraction_id': 0},\n",
       "  {'image_user': 'https://dynamic-media-cdn.tripadvisor.com/media/photo-o/1a/f6/f2/11/default-avatar-2020-23.jpg?w=100&h=-1&s=1',\n",
       "   'name_user': 'RosieW',\n",
       "   'info_user': 'Wagga Wagga, Australia1 contribution',\n",
       "   'type_review': 'Amazing service!',\n",
       "   'date_review': 'December 21, 2019',\n",
       "   'text_review': 'We were concerned after being exceptionally delayed due to a baggage mishap, that our driver would have left. The company stayed in touch the whole time we had to wait and the delay was no problem for them. Driver was courteous and polite and a safe driver through the NY traffic. Thank you so much! Highly recommended.',\n",
       "   'score_user': 5.0,\n",
       "   'attraction_id': 0},\n",
       "  {'image_user': 'https://dynamic-media-cdn.tripadvisor.com/media/photo-o/1a/f6/f0/48/default-avatar-2020-15.jpg?w=100&h=-1&s=1',\n",
       "   'name_user': 'criticoogastro',\n",
       "   'info_user': 'Madrid, Spain4 contributions',\n",
       "   'type_review': 'Horrible old limo with no heating system, do not recommend at all.\\nLimusina de hace más de 30 años, sin calefaccion.',\n",
       "   'date_review': 'December 4, 2019',\n",
       "   'text_review': 'We booked a supposed all brand new limo, or that was what showed in the photo of the ad where we made the reservation. When we arrived at the airport nobody was waiting for us, we had to call the company to confirm where the limo was parked. The limo was dirty, old and looked nothing like the limo we booked and that was advertised. The heating did not work and the roof would open constantly. Also the driver did not leave us at the hotel entrance instead left us in the middle of a different street and gave us close to no directions of where our hotel was. We feel ripped off and do not recommend at all.',\n",
       "   'score_user': 1.0,\n",
       "   'attraction_id': 0},\n",
       "  {'image_user': 'https://dynamic-media-cdn.tripadvisor.com/media/photo-o/1a/f6/e9/60/default-avatar-2020-64.jpg?w=100&h=-1&s=1',\n",
       "   'name_user': 'Rosa',\n",
       "   'info_user': 'New York City, NY3 contributions',\n",
       "   'type_review': 'Beautiful Stretch Limo - First Time to NYC',\n",
       "   'date_review': 'June 21, 2019',\n",
       "   'text_review': 'I brought my friends to visit NYC for the first time and booked a stretch Limo to pick them up from the airport. Everything was flawless. They were so impressed to be picked up in a limo. The car was beautiful and the service was impeccable. So happy. Thank you!!!',\n",
       "   'score_user': 5.0,\n",
       "   'attraction_id': 0}],\n",
       " 5)"
      ]
     },
     "execution_count": 21,
     "metadata": {},
     "output_type": "execute_result"
    }
   ],
   "source": [
    "scrapAllReviewsGet(\"https://www.tripadvisor.com/AttractionProductReview-g60763-d16822065-or10-Private_New_York_City_Airport_Arrival_Transfer_by_Luxury_Stretch_Limo-New_York.html\", 0)"
   ]
  },
  {
   "cell_type": "code",
   "execution_count": 22,
   "metadata": {},
   "outputs": [],
   "source": [
    "def createFileCoppyData(items, chemin_fichier_csv = 'data.csv'):\n",
    "    # cette fonction va prendre le tableau de dictionnaire et\n",
    "    # enregistrer chaque ligne dans le tableau\n",
    "\n",
    "    items_data = pd.DataFrame(items)\n",
    "    items_data.to_csv(chemin_fichier_csv, mode='a', header=not os.path.exists(chemin_fichier_csv),  index=False)\n"
   ]
  },
  {
   "cell_type": "code",
   "execution_count": 23,
   "metadata": {},
   "outputs": [],
   "source": [
    "def iterationsReviews(data):\n",
    "    for index, row in data.iterrows():\n",
    "        print(index, \"---scraping\", row['lien_detail'], \" attraction id:\", row['attration_id'])\n",
    "        arret = 0\n",
    "        for i in range(0, 25):\n",
    "            iter = i * 10                                                                           # 00 01 02 03 04 05 06\n",
    "            print(f'itteration: ', {i})\n",
    "            time.sleep(random.uniform(5,8))\n",
    "            url = reform(row['lien_detail'])[0] + \"Reviews-or\" + str(iter) + reform(row['lien_detail'])[1]\n",
    "            print(url)\n",
    "\n",
    "            items, len_get = scrapAllReviewsGet(url, row['attration_id']) \n",
    "            createFileCoppyData(items, 'attraction_reviews.csv')\n",
    "            arret += len_get\n",
    "            print(\"total scrapé: \", arret)\n",
    "            if arret >= 140:\n",
    "                print(index, '--- fin ---')\n",
    "                break\n",
    "            \n",
    "\n",
    "        \n",
    "\n"
   ]
  },
  {
   "cell_type": "code",
   "execution_count": null,
   "metadata": {},
   "outputs": [],
   "source": [
    "https://www.tripadvisor.com/Attraction_Review-g60763-d105125-Reviews-or10-The_Metropolitan_Museum_of_Art-New_York_City_New_York.html"
   ]
  },
  {
   "cell_type": "code",
   "execution_count": 34,
   "metadata": {},
   "outputs": [
    {
     "name": "stdout",
     "output_type": "stream",
     "text": [
      "100 ---scraping https://www.tripadvisor.com/Attraction_Review-g60763-d136033-Reviews-Upper_East_Side-New_York_City_New_York.html  attraction id: 100\n",
      "itteration:  {0}\n",
      "https://www.tripadvisor.com/Attraction_Review-g60763-d136033-Reviews-or0-Upper_East_Side-New_York_City_New_York.html\n",
      "nombre data scrapé:  {10}\n",
      "total scrapé:  10\n",
      "itteration:  {1}\n",
      "https://www.tripadvisor.com/Attraction_Review-g60763-d136033-Reviews-or10-Upper_East_Side-New_York_City_New_York.html\n",
      "nombre data scrapé:  {10}\n",
      "total scrapé:  20\n",
      "itteration:  {2}\n",
      "https://www.tripadvisor.com/Attraction_Review-g60763-d136033-Reviews-or20-Upper_East_Side-New_York_City_New_York.html\n",
      "nombre data scrapé:  {10}\n",
      "total scrapé:  30\n",
      "itteration:  {3}\n",
      "https://www.tripadvisor.com/Attraction_Review-g60763-d136033-Reviews-or30-Upper_East_Side-New_York_City_New_York.html\n",
      "nombre data scrapé:  {10}\n",
      "total scrapé:  40\n",
      "itteration:  {4}\n",
      "https://www.tripadvisor.com/Attraction_Review-g60763-d136033-Reviews-or40-Upper_East_Side-New_York_City_New_York.html\n",
      "nombre data scrapé:  {10}\n",
      "total scrapé:  50\n",
      "itteration:  {5}\n",
      "https://www.tripadvisor.com/Attraction_Review-g60763-d136033-Reviews-or50-Upper_East_Side-New_York_City_New_York.html\n",
      "nombre data scrapé:  {10}\n",
      "total scrapé:  60\n",
      "itteration:  {6}\n",
      "https://www.tripadvisor.com/Attraction_Review-g60763-d136033-Reviews-or60-Upper_East_Side-New_York_City_New_York.html\n",
      "nombre data scrapé:  {10}\n",
      "total scrapé:  70\n",
      "itteration:  {7}\n",
      "https://www.tripadvisor.com/Attraction_Review-g60763-d136033-Reviews-or70-Upper_East_Side-New_York_City_New_York.html\n",
      "nombre data scrapé:  {10}\n",
      "total scrapé:  80\n",
      "itteration:  {8}\n",
      "https://www.tripadvisor.com/Attraction_Review-g60763-d136033-Reviews-or80-Upper_East_Side-New_York_City_New_York.html\n",
      "nombre data scrapé:  {10}\n",
      "total scrapé:  90\n",
      "itteration:  {9}\n",
      "https://www.tripadvisor.com/Attraction_Review-g60763-d136033-Reviews-or90-Upper_East_Side-New_York_City_New_York.html\n",
      "nombre data scrapé:  {0}\n",
      "total scrapé:  90\n",
      "itteration:  {10}\n",
      "https://www.tripadvisor.com/Attraction_Review-g60763-d136033-Reviews-or100-Upper_East_Side-New_York_City_New_York.html\n",
      "nombre data scrapé:  {0}\n",
      "total scrapé:  90\n",
      "itteration:  {11}\n",
      "https://www.tripadvisor.com/Attraction_Review-g60763-d136033-Reviews-or110-Upper_East_Side-New_York_City_New_York.html\n",
      "nombre data scrapé:  {10}\n",
      "total scrapé:  100\n",
      "itteration:  {12}\n",
      "https://www.tripadvisor.com/Attraction_Review-g60763-d136033-Reviews-or120-Upper_East_Side-New_York_City_New_York.html\n",
      "nombre data scrapé:  {10}\n",
      "total scrapé:  110\n",
      "itteration:  {13}\n",
      "https://www.tripadvisor.com/Attraction_Review-g60763-d136033-Reviews-or130-Upper_East_Side-New_York_City_New_York.html\n",
      "nombre data scrapé:  {3}\n",
      "total scrapé:  113\n",
      "itteration:  {14}\n",
      "https://www.tripadvisor.com/Attraction_Review-g60763-d136033-Reviews-or140-Upper_East_Side-New_York_City_New_York.html\n",
      "nombre data scrapé:  {0}\n",
      "total scrapé:  113\n",
      "itteration:  {15}\n",
      "https://www.tripadvisor.com/Attraction_Review-g60763-d136033-Reviews-or150-Upper_East_Side-New_York_City_New_York.html\n",
      "nombre data scrapé:  {0}\n",
      "total scrapé:  113\n",
      "itteration:  {16}\n",
      "https://www.tripadvisor.com/Attraction_Review-g60763-d136033-Reviews-or160-Upper_East_Side-New_York_City_New_York.html\n",
      "nombre data scrapé:  {0}\n",
      "total scrapé:  113\n",
      "itteration:  {17}\n",
      "https://www.tripadvisor.com/Attraction_Review-g60763-d136033-Reviews-or170-Upper_East_Side-New_York_City_New_York.html\n"
     ]
    },
    {
     "ename": "KeyboardInterrupt",
     "evalue": "",
     "output_type": "error",
     "traceback": [
      "\u001b[1;31m---------------------------------------------------------------------------\u001b[0m",
      "\u001b[1;31mKeyboardInterrupt\u001b[0m                         Traceback (most recent call last)",
      "Cell \u001b[1;32mIn[34], line 1\u001b[0m\n\u001b[1;32m----> 1\u001b[0m \u001b[43miterationsReviews\u001b[49m\u001b[43m(\u001b[49m\u001b[43mget\u001b[49m\u001b[43m)\u001b[49m\n",
      "Cell \u001b[1;32mIn[21], line 12\u001b[0m, in \u001b[0;36miterationsReviews\u001b[1;34m(data)\u001b[0m\n\u001b[0;32m      9\u001b[0m url \u001b[38;5;241m=\u001b[39m reform(row[\u001b[38;5;124m'\u001b[39m\u001b[38;5;124mlien_detail\u001b[39m\u001b[38;5;124m'\u001b[39m])[\u001b[38;5;241m0\u001b[39m] \u001b[38;5;241m+\u001b[39m \u001b[38;5;124m\"\u001b[39m\u001b[38;5;124mReviews-or\u001b[39m\u001b[38;5;124m\"\u001b[39m \u001b[38;5;241m+\u001b[39m \u001b[38;5;28mstr\u001b[39m(\u001b[38;5;28miter\u001b[39m) \u001b[38;5;241m+\u001b[39m reform(row[\u001b[38;5;124m'\u001b[39m\u001b[38;5;124mlien_detail\u001b[39m\u001b[38;5;124m'\u001b[39m])[\u001b[38;5;241m1\u001b[39m]\n\u001b[0;32m     10\u001b[0m \u001b[38;5;28mprint\u001b[39m(url)\n\u001b[1;32m---> 12\u001b[0m items, len_get \u001b[38;5;241m=\u001b[39m \u001b[43mscrapAllReviewsGet\u001b[49m\u001b[43m(\u001b[49m\u001b[43murl\u001b[49m\u001b[43m,\u001b[49m\u001b[43m \u001b[49m\u001b[43mrow\u001b[49m\u001b[43m[\u001b[49m\u001b[38;5;124;43m'\u001b[39;49m\u001b[38;5;124;43mattration_id\u001b[39;49m\u001b[38;5;124;43m'\u001b[39;49m\u001b[43m]\u001b[49m\u001b[43m)\u001b[49m \n\u001b[0;32m     13\u001b[0m createFileCoppyData(items, \u001b[38;5;124m'\u001b[39m\u001b[38;5;124mattraction_reviews.csv\u001b[39m\u001b[38;5;124m'\u001b[39m)\n\u001b[0;32m     14\u001b[0m arret \u001b[38;5;241m+\u001b[39m\u001b[38;5;241m=\u001b[39m len_get\n",
      "Cell \u001b[1;32mIn[15], line 8\u001b[0m, in \u001b[0;36mscrapAllReviewsGet\u001b[1;34m(url, attraction_id)\u001b[0m\n\u001b[0;32m      6\u001b[0m Firefox_options \u001b[38;5;241m=\u001b[39m webdriver\u001b[38;5;241m.\u001b[39mEdgeOptions()\n\u001b[0;32m      7\u001b[0m Firefox_options\u001b[38;5;241m.\u001b[39madd_argument(\u001b[38;5;124mf\u001b[39m\u001b[38;5;124m'\u001b[39m\u001b[38;5;124muser-agent=\u001b[39m\u001b[38;5;132;01m{\u001b[39;00muserAgent\u001b[38;5;132;01m}\u001b[39;00m\u001b[38;5;124m'\u001b[39m)\n\u001b[1;32m----> 8\u001b[0m driver \u001b[38;5;241m=\u001b[39m \u001b[43mwebdriver\u001b[49m\u001b[38;5;241;43m.\u001b[39;49m\u001b[43mEdge\u001b[49m\u001b[43m(\u001b[49m\u001b[43moptions\u001b[49m\u001b[38;5;241;43m=\u001b[39;49m\u001b[43mFirefox_options\u001b[49m\u001b[43m)\u001b[49m\n\u001b[0;32m      9\u001b[0m driver\u001b[38;5;241m.\u001b[39mget(url)\n\u001b[0;32m     10\u001b[0m \u001b[38;5;66;03m#driver.set_window_size(1080, 800)\u001b[39;00m\n",
      "File \u001b[1;32mc:\\Users\\Michel\\scrap\\lib\\site-packages\\selenium\\webdriver\\edge\\webdriver.py:45\u001b[0m, in \u001b[0;36mWebDriver.__init__\u001b[1;34m(self, options, service, keep_alive)\u001b[0m\n\u001b[0;32m     42\u001b[0m service \u001b[38;5;241m=\u001b[39m service \u001b[38;5;28;01mif\u001b[39;00m service \u001b[38;5;28;01melse\u001b[39;00m Service()\n\u001b[0;32m     43\u001b[0m options \u001b[38;5;241m=\u001b[39m options \u001b[38;5;28;01mif\u001b[39;00m options \u001b[38;5;28;01melse\u001b[39;00m Options()\n\u001b[1;32m---> 45\u001b[0m \u001b[38;5;28;43msuper\u001b[39;49m\u001b[43m(\u001b[49m\u001b[43m)\u001b[49m\u001b[38;5;241;43m.\u001b[39;49m\u001b[38;5;21;43m__init__\u001b[39;49m\u001b[43m(\u001b[49m\n\u001b[0;32m     46\u001b[0m \u001b[43m    \u001b[49m\u001b[43mDesiredCapabilities\u001b[49m\u001b[38;5;241;43m.\u001b[39;49m\u001b[43mEDGE\u001b[49m\u001b[43m[\u001b[49m\u001b[38;5;124;43m\"\u001b[39;49m\u001b[38;5;124;43mbrowserName\u001b[39;49m\u001b[38;5;124;43m\"\u001b[39;49m\u001b[43m]\u001b[49m\u001b[43m,\u001b[49m\n\u001b[0;32m     47\u001b[0m \u001b[43m    \u001b[49m\u001b[38;5;124;43m\"\u001b[39;49m\u001b[38;5;124;43mms\u001b[39;49m\u001b[38;5;124;43m\"\u001b[39;49m\u001b[43m,\u001b[49m\n\u001b[0;32m     48\u001b[0m \u001b[43m    \u001b[49m\u001b[43moptions\u001b[49m\u001b[43m,\u001b[49m\n\u001b[0;32m     49\u001b[0m \u001b[43m    \u001b[49m\u001b[43mservice\u001b[49m\u001b[43m,\u001b[49m\n\u001b[0;32m     50\u001b[0m \u001b[43m    \u001b[49m\u001b[43mkeep_alive\u001b[49m\u001b[43m,\u001b[49m\n\u001b[0;32m     51\u001b[0m \u001b[43m\u001b[49m\u001b[43m)\u001b[49m\n",
      "File \u001b[1;32mc:\\Users\\Michel\\scrap\\lib\\site-packages\\selenium\\webdriver\\chromium\\webdriver.py:56\u001b[0m, in \u001b[0;36mChromiumDriver.__init__\u001b[1;34m(self, browser_name, vendor_prefix, options, service, keep_alive)\u001b[0m\n\u001b[0;32m     53\u001b[0m \u001b[38;5;28mself\u001b[39m\u001b[38;5;241m.\u001b[39mservice\u001b[38;5;241m.\u001b[39mstart()\n\u001b[0;32m     55\u001b[0m \u001b[38;5;28;01mtry\u001b[39;00m:\n\u001b[1;32m---> 56\u001b[0m     \u001b[38;5;28;43msuper\u001b[39;49m\u001b[43m(\u001b[49m\u001b[43m)\u001b[49m\u001b[38;5;241;43m.\u001b[39;49m\u001b[38;5;21;43m__init__\u001b[39;49m\u001b[43m(\u001b[49m\n\u001b[0;32m     57\u001b[0m \u001b[43m        \u001b[49m\u001b[43mcommand_executor\u001b[49m\u001b[38;5;241;43m=\u001b[39;49m\u001b[43mChromiumRemoteConnection\u001b[49m\u001b[43m(\u001b[49m\n\u001b[0;32m     58\u001b[0m \u001b[43m            \u001b[49m\u001b[43mremote_server_addr\u001b[49m\u001b[38;5;241;43m=\u001b[39;49m\u001b[38;5;28;43mself\u001b[39;49m\u001b[38;5;241;43m.\u001b[39;49m\u001b[43mservice\u001b[49m\u001b[38;5;241;43m.\u001b[39;49m\u001b[43mservice_url\u001b[49m\u001b[43m,\u001b[49m\n\u001b[0;32m     59\u001b[0m \u001b[43m            \u001b[49m\u001b[43mbrowser_name\u001b[49m\u001b[38;5;241;43m=\u001b[39;49m\u001b[43mbrowser_name\u001b[49m\u001b[43m,\u001b[49m\n\u001b[0;32m     60\u001b[0m \u001b[43m            \u001b[49m\u001b[43mvendor_prefix\u001b[49m\u001b[38;5;241;43m=\u001b[39;49m\u001b[43mvendor_prefix\u001b[49m\u001b[43m,\u001b[49m\n\u001b[0;32m     61\u001b[0m \u001b[43m            \u001b[49m\u001b[43mkeep_alive\u001b[49m\u001b[38;5;241;43m=\u001b[39;49m\u001b[43mkeep_alive\u001b[49m\u001b[43m,\u001b[49m\n\u001b[0;32m     62\u001b[0m \u001b[43m            \u001b[49m\u001b[43mignore_proxy\u001b[49m\u001b[38;5;241;43m=\u001b[39;49m\u001b[43moptions\u001b[49m\u001b[38;5;241;43m.\u001b[39;49m\u001b[43m_ignore_local_proxy\u001b[49m\u001b[43m,\u001b[49m\n\u001b[0;32m     63\u001b[0m \u001b[43m        \u001b[49m\u001b[43m)\u001b[49m\u001b[43m,\u001b[49m\n\u001b[0;32m     64\u001b[0m \u001b[43m        \u001b[49m\u001b[43moptions\u001b[49m\u001b[38;5;241;43m=\u001b[39;49m\u001b[43moptions\u001b[49m\u001b[43m,\u001b[49m\n\u001b[0;32m     65\u001b[0m \u001b[43m    \u001b[49m\u001b[43m)\u001b[49m\n\u001b[0;32m     66\u001b[0m \u001b[38;5;28;01mexcept\u001b[39;00m \u001b[38;5;167;01mException\u001b[39;00m:\n\u001b[0;32m     67\u001b[0m     \u001b[38;5;28mself\u001b[39m\u001b[38;5;241m.\u001b[39mquit()\n",
      "File \u001b[1;32mc:\\Users\\Michel\\scrap\\lib\\site-packages\\selenium\\webdriver\\remote\\webdriver.py:208\u001b[0m, in \u001b[0;36mWebDriver.__init__\u001b[1;34m(self, command_executor, keep_alive, file_detector, options)\u001b[0m\n\u001b[0;32m    206\u001b[0m \u001b[38;5;28mself\u001b[39m\u001b[38;5;241m.\u001b[39m_authenticator_id \u001b[38;5;241m=\u001b[39m \u001b[38;5;28;01mNone\u001b[39;00m\n\u001b[0;32m    207\u001b[0m \u001b[38;5;28mself\u001b[39m\u001b[38;5;241m.\u001b[39mstart_client()\n\u001b[1;32m--> 208\u001b[0m \u001b[38;5;28;43mself\u001b[39;49m\u001b[38;5;241;43m.\u001b[39;49m\u001b[43mstart_session\u001b[49m\u001b[43m(\u001b[49m\u001b[43mcapabilities\u001b[49m\u001b[43m)\u001b[49m\n",
      "File \u001b[1;32mc:\\Users\\Michel\\scrap\\lib\\site-packages\\selenium\\webdriver\\remote\\webdriver.py:292\u001b[0m, in \u001b[0;36mWebDriver.start_session\u001b[1;34m(self, capabilities)\u001b[0m\n\u001b[0;32m    285\u001b[0m \u001b[38;5;250m\u001b[39m\u001b[38;5;124;03m\"\"\"Creates a new session with the desired capabilities.\u001b[39;00m\n\u001b[0;32m    286\u001b[0m \n\u001b[0;32m    287\u001b[0m \u001b[38;5;124;03m:Args:\u001b[39;00m\n\u001b[0;32m    288\u001b[0m \u001b[38;5;124;03m - capabilities - a capabilities dict to start the session with.\u001b[39;00m\n\u001b[0;32m    289\u001b[0m \u001b[38;5;124;03m\"\"\"\u001b[39;00m\n\u001b[0;32m    291\u001b[0m caps \u001b[38;5;241m=\u001b[39m _create_caps(capabilities)\n\u001b[1;32m--> 292\u001b[0m response \u001b[38;5;241m=\u001b[39m \u001b[38;5;28;43mself\u001b[39;49m\u001b[38;5;241;43m.\u001b[39;49m\u001b[43mexecute\u001b[49m\u001b[43m(\u001b[49m\u001b[43mCommand\u001b[49m\u001b[38;5;241;43m.\u001b[39;49m\u001b[43mNEW_SESSION\u001b[49m\u001b[43m,\u001b[49m\u001b[43m \u001b[49m\u001b[43mcaps\u001b[49m\u001b[43m)\u001b[49m[\u001b[38;5;124m\"\u001b[39m\u001b[38;5;124mvalue\u001b[39m\u001b[38;5;124m\"\u001b[39m]\n\u001b[0;32m    293\u001b[0m \u001b[38;5;28mself\u001b[39m\u001b[38;5;241m.\u001b[39msession_id \u001b[38;5;241m=\u001b[39m response\u001b[38;5;241m.\u001b[39mget(\u001b[38;5;124m\"\u001b[39m\u001b[38;5;124msessionId\u001b[39m\u001b[38;5;124m\"\u001b[39m)\n\u001b[0;32m    294\u001b[0m \u001b[38;5;28mself\u001b[39m\u001b[38;5;241m.\u001b[39mcaps \u001b[38;5;241m=\u001b[39m response\u001b[38;5;241m.\u001b[39mget(\u001b[38;5;124m\"\u001b[39m\u001b[38;5;124mcapabilities\u001b[39m\u001b[38;5;124m\"\u001b[39m)\n",
      "File \u001b[1;32mc:\\Users\\Michel\\scrap\\lib\\site-packages\\selenium\\webdriver\\remote\\webdriver.py:345\u001b[0m, in \u001b[0;36mWebDriver.execute\u001b[1;34m(self, driver_command, params)\u001b[0m\n\u001b[0;32m    342\u001b[0m     \u001b[38;5;28;01melif\u001b[39;00m \u001b[38;5;124m\"\u001b[39m\u001b[38;5;124msessionId\u001b[39m\u001b[38;5;124m\"\u001b[39m \u001b[38;5;129;01mnot\u001b[39;00m \u001b[38;5;129;01min\u001b[39;00m params:\n\u001b[0;32m    343\u001b[0m         params[\u001b[38;5;124m\"\u001b[39m\u001b[38;5;124msessionId\u001b[39m\u001b[38;5;124m\"\u001b[39m] \u001b[38;5;241m=\u001b[39m \u001b[38;5;28mself\u001b[39m\u001b[38;5;241m.\u001b[39msession_id\n\u001b[1;32m--> 345\u001b[0m response \u001b[38;5;241m=\u001b[39m \u001b[38;5;28;43mself\u001b[39;49m\u001b[38;5;241;43m.\u001b[39;49m\u001b[43mcommand_executor\u001b[49m\u001b[38;5;241;43m.\u001b[39;49m\u001b[43mexecute\u001b[49m\u001b[43m(\u001b[49m\u001b[43mdriver_command\u001b[49m\u001b[43m,\u001b[49m\u001b[43m \u001b[49m\u001b[43mparams\u001b[49m\u001b[43m)\u001b[49m\n\u001b[0;32m    346\u001b[0m \u001b[38;5;28;01mif\u001b[39;00m response:\n\u001b[0;32m    347\u001b[0m     \u001b[38;5;28mself\u001b[39m\u001b[38;5;241m.\u001b[39merror_handler\u001b[38;5;241m.\u001b[39mcheck_response(response)\n",
      "File \u001b[1;32mc:\\Users\\Michel\\scrap\\lib\\site-packages\\selenium\\webdriver\\remote\\remote_connection.py:300\u001b[0m, in \u001b[0;36mRemoteConnection.execute\u001b[1;34m(self, command, params)\u001b[0m\n\u001b[0;32m    298\u001b[0m data \u001b[38;5;241m=\u001b[39m utils\u001b[38;5;241m.\u001b[39mdump_json(params)\n\u001b[0;32m    299\u001b[0m url \u001b[38;5;241m=\u001b[39m \u001b[38;5;124mf\u001b[39m\u001b[38;5;124m\"\u001b[39m\u001b[38;5;132;01m{\u001b[39;00m\u001b[38;5;28mself\u001b[39m\u001b[38;5;241m.\u001b[39m_url\u001b[38;5;132;01m}\u001b[39;00m\u001b[38;5;132;01m{\u001b[39;00mpath\u001b[38;5;132;01m}\u001b[39;00m\u001b[38;5;124m\"\u001b[39m\n\u001b[1;32m--> 300\u001b[0m \u001b[38;5;28;01mreturn\u001b[39;00m \u001b[38;5;28;43mself\u001b[39;49m\u001b[38;5;241;43m.\u001b[39;49m\u001b[43m_request\u001b[49m\u001b[43m(\u001b[49m\u001b[43mcommand_info\u001b[49m\u001b[43m[\u001b[49m\u001b[38;5;241;43m0\u001b[39;49m\u001b[43m]\u001b[49m\u001b[43m,\u001b[49m\u001b[43m \u001b[49m\u001b[43murl\u001b[49m\u001b[43m,\u001b[49m\u001b[43m \u001b[49m\u001b[43mbody\u001b[49m\u001b[38;5;241;43m=\u001b[39;49m\u001b[43mdata\u001b[49m\u001b[43m)\u001b[49m\n",
      "File \u001b[1;32mc:\\Users\\Michel\\scrap\\lib\\site-packages\\selenium\\webdriver\\remote\\remote_connection.py:321\u001b[0m, in \u001b[0;36mRemoteConnection._request\u001b[1;34m(self, method, url, body)\u001b[0m\n\u001b[0;32m    318\u001b[0m     body \u001b[38;5;241m=\u001b[39m \u001b[38;5;28;01mNone\u001b[39;00m\n\u001b[0;32m    320\u001b[0m \u001b[38;5;28;01mif\u001b[39;00m \u001b[38;5;28mself\u001b[39m\u001b[38;5;241m.\u001b[39mkeep_alive:\n\u001b[1;32m--> 321\u001b[0m     response \u001b[38;5;241m=\u001b[39m \u001b[38;5;28;43mself\u001b[39;49m\u001b[38;5;241;43m.\u001b[39;49m\u001b[43m_conn\u001b[49m\u001b[38;5;241;43m.\u001b[39;49m\u001b[43mrequest\u001b[49m\u001b[43m(\u001b[49m\u001b[43mmethod\u001b[49m\u001b[43m,\u001b[49m\u001b[43m \u001b[49m\u001b[43murl\u001b[49m\u001b[43m,\u001b[49m\u001b[43m \u001b[49m\u001b[43mbody\u001b[49m\u001b[38;5;241;43m=\u001b[39;49m\u001b[43mbody\u001b[49m\u001b[43m,\u001b[49m\u001b[43m \u001b[49m\u001b[43mheaders\u001b[49m\u001b[38;5;241;43m=\u001b[39;49m\u001b[43mheaders\u001b[49m\u001b[43m)\u001b[49m\n\u001b[0;32m    322\u001b[0m     statuscode \u001b[38;5;241m=\u001b[39m response\u001b[38;5;241m.\u001b[39mstatus\n\u001b[0;32m    323\u001b[0m \u001b[38;5;28;01melse\u001b[39;00m:\n",
      "File \u001b[1;32mc:\\Users\\Michel\\scrap\\lib\\site-packages\\urllib3\\_request_methods.py:118\u001b[0m, in \u001b[0;36mRequestMethods.request\u001b[1;34m(self, method, url, body, fields, headers, json, **urlopen_kw)\u001b[0m\n\u001b[0;32m    110\u001b[0m     \u001b[38;5;28;01mreturn\u001b[39;00m \u001b[38;5;28mself\u001b[39m\u001b[38;5;241m.\u001b[39mrequest_encode_url(\n\u001b[0;32m    111\u001b[0m         method,\n\u001b[0;32m    112\u001b[0m         url,\n\u001b[1;32m   (...)\u001b[0m\n\u001b[0;32m    115\u001b[0m         \u001b[38;5;241m*\u001b[39m\u001b[38;5;241m*\u001b[39murlopen_kw,\n\u001b[0;32m    116\u001b[0m     )\n\u001b[0;32m    117\u001b[0m \u001b[38;5;28;01melse\u001b[39;00m:\n\u001b[1;32m--> 118\u001b[0m     \u001b[38;5;28;01mreturn\u001b[39;00m \u001b[38;5;28mself\u001b[39m\u001b[38;5;241m.\u001b[39mrequest_encode_body(\n\u001b[0;32m    119\u001b[0m         method, url, fields\u001b[38;5;241m=\u001b[39mfields, headers\u001b[38;5;241m=\u001b[39mheaders, \u001b[38;5;241m*\u001b[39m\u001b[38;5;241m*\u001b[39murlopen_kw\n\u001b[0;32m    120\u001b[0m     )\n",
      "File \u001b[1;32mc:\\Users\\Michel\\scrap\\lib\\site-packages\\urllib3\\_request_methods.py:217\u001b[0m, in \u001b[0;36mRequestMethods.request_encode_body\u001b[1;34m(self, method, url, fields, headers, encode_multipart, multipart_boundary, **urlopen_kw)\u001b[0m\n\u001b[0;32m    213\u001b[0m     extra_kw[\u001b[38;5;124m\"\u001b[39m\u001b[38;5;124mheaders\u001b[39m\u001b[38;5;124m\"\u001b[39m]\u001b[38;5;241m.\u001b[39msetdefault(\u001b[38;5;124m\"\u001b[39m\u001b[38;5;124mContent-Type\u001b[39m\u001b[38;5;124m\"\u001b[39m, content_type)\n\u001b[0;32m    215\u001b[0m extra_kw\u001b[38;5;241m.\u001b[39mupdate(urlopen_kw)\n\u001b[1;32m--> 217\u001b[0m \u001b[38;5;28;01mreturn\u001b[39;00m \u001b[38;5;28mself\u001b[39m\u001b[38;5;241m.\u001b[39murlopen(method, url, \u001b[38;5;241m*\u001b[39m\u001b[38;5;241m*\u001b[39mextra_kw)\n",
      "File \u001b[1;32mc:\\Users\\Michel\\scrap\\lib\\site-packages\\urllib3\\poolmanager.py:444\u001b[0m, in \u001b[0;36mPoolManager.urlopen\u001b[1;34m(self, method, url, redirect, **kw)\u001b[0m\n\u001b[0;32m    442\u001b[0m     response \u001b[38;5;241m=\u001b[39m conn\u001b[38;5;241m.\u001b[39murlopen(method, url, \u001b[38;5;241m*\u001b[39m\u001b[38;5;241m*\u001b[39mkw)\n\u001b[0;32m    443\u001b[0m \u001b[38;5;28;01melse\u001b[39;00m:\n\u001b[1;32m--> 444\u001b[0m     response \u001b[38;5;241m=\u001b[39m conn\u001b[38;5;241m.\u001b[39murlopen(method, u\u001b[38;5;241m.\u001b[39mrequest_uri, \u001b[38;5;241m*\u001b[39m\u001b[38;5;241m*\u001b[39mkw)\n\u001b[0;32m    446\u001b[0m redirect_location \u001b[38;5;241m=\u001b[39m redirect \u001b[38;5;129;01mand\u001b[39;00m response\u001b[38;5;241m.\u001b[39mget_redirect_location()\n\u001b[0;32m    447\u001b[0m \u001b[38;5;28;01mif\u001b[39;00m \u001b[38;5;129;01mnot\u001b[39;00m redirect_location:\n",
      "File \u001b[1;32mc:\\Users\\Michel\\scrap\\lib\\site-packages\\urllib3\\connectionpool.py:790\u001b[0m, in \u001b[0;36mHTTPConnectionPool.urlopen\u001b[1;34m(self, method, url, body, headers, retries, redirect, assert_same_host, timeout, pool_timeout, release_conn, chunked, body_pos, preload_content, decode_content, **response_kw)\u001b[0m\n\u001b[0;32m    787\u001b[0m response_conn \u001b[38;5;241m=\u001b[39m conn \u001b[38;5;28;01mif\u001b[39;00m \u001b[38;5;129;01mnot\u001b[39;00m release_conn \u001b[38;5;28;01melse\u001b[39;00m \u001b[38;5;28;01mNone\u001b[39;00m\n\u001b[0;32m    789\u001b[0m \u001b[38;5;66;03m# Make the request on the HTTPConnection object\u001b[39;00m\n\u001b[1;32m--> 790\u001b[0m response \u001b[38;5;241m=\u001b[39m \u001b[38;5;28mself\u001b[39m\u001b[38;5;241m.\u001b[39m_make_request(\n\u001b[0;32m    791\u001b[0m     conn,\n\u001b[0;32m    792\u001b[0m     method,\n\u001b[0;32m    793\u001b[0m     url,\n\u001b[0;32m    794\u001b[0m     timeout\u001b[38;5;241m=\u001b[39mtimeout_obj,\n\u001b[0;32m    795\u001b[0m     body\u001b[38;5;241m=\u001b[39mbody,\n\u001b[0;32m    796\u001b[0m     headers\u001b[38;5;241m=\u001b[39mheaders,\n\u001b[0;32m    797\u001b[0m     chunked\u001b[38;5;241m=\u001b[39mchunked,\n\u001b[0;32m    798\u001b[0m     retries\u001b[38;5;241m=\u001b[39mretries,\n\u001b[0;32m    799\u001b[0m     response_conn\u001b[38;5;241m=\u001b[39mresponse_conn,\n\u001b[0;32m    800\u001b[0m     preload_content\u001b[38;5;241m=\u001b[39mpreload_content,\n\u001b[0;32m    801\u001b[0m     decode_content\u001b[38;5;241m=\u001b[39mdecode_content,\n\u001b[0;32m    802\u001b[0m     \u001b[38;5;241m*\u001b[39m\u001b[38;5;241m*\u001b[39mresponse_kw,\n\u001b[0;32m    803\u001b[0m )\n\u001b[0;32m    805\u001b[0m \u001b[38;5;66;03m# Everything went great!\u001b[39;00m\n\u001b[0;32m    806\u001b[0m clean_exit \u001b[38;5;241m=\u001b[39m \u001b[38;5;28;01mTrue\u001b[39;00m\n",
      "File \u001b[1;32mc:\\Users\\Michel\\scrap\\lib\\site-packages\\urllib3\\connectionpool.py:536\u001b[0m, in \u001b[0;36mHTTPConnectionPool._make_request\u001b[1;34m(self, conn, method, url, body, headers, retries, timeout, chunked, response_conn, preload_content, decode_content, enforce_content_length)\u001b[0m\n\u001b[0;32m    534\u001b[0m \u001b[38;5;66;03m# Receive the response from the server\u001b[39;00m\n\u001b[0;32m    535\u001b[0m \u001b[38;5;28;01mtry\u001b[39;00m:\n\u001b[1;32m--> 536\u001b[0m     response \u001b[38;5;241m=\u001b[39m \u001b[43mconn\u001b[49m\u001b[38;5;241;43m.\u001b[39;49m\u001b[43mgetresponse\u001b[49m\u001b[43m(\u001b[49m\u001b[43m)\u001b[49m\n\u001b[0;32m    537\u001b[0m \u001b[38;5;28;01mexcept\u001b[39;00m (BaseSSLError, \u001b[38;5;167;01mOSError\u001b[39;00m) \u001b[38;5;28;01mas\u001b[39;00m e:\n\u001b[0;32m    538\u001b[0m     \u001b[38;5;28mself\u001b[39m\u001b[38;5;241m.\u001b[39m_raise_timeout(err\u001b[38;5;241m=\u001b[39me, url\u001b[38;5;241m=\u001b[39murl, timeout_value\u001b[38;5;241m=\u001b[39mread_timeout)\n",
      "File \u001b[1;32mc:\\Users\\Michel\\scrap\\lib\\site-packages\\urllib3\\connection.py:461\u001b[0m, in \u001b[0;36mHTTPConnection.getresponse\u001b[1;34m(self)\u001b[0m\n\u001b[0;32m    458\u001b[0m \u001b[38;5;28;01mfrom\u001b[39;00m \u001b[38;5;21;01m.\u001b[39;00m\u001b[38;5;21;01mresponse\u001b[39;00m \u001b[38;5;28;01mimport\u001b[39;00m HTTPResponse\n\u001b[0;32m    460\u001b[0m \u001b[38;5;66;03m# Get the response from http.client.HTTPConnection\u001b[39;00m\n\u001b[1;32m--> 461\u001b[0m httplib_response \u001b[38;5;241m=\u001b[39m \u001b[38;5;28;43msuper\u001b[39;49m\u001b[43m(\u001b[49m\u001b[43m)\u001b[49m\u001b[38;5;241;43m.\u001b[39;49m\u001b[43mgetresponse\u001b[49m\u001b[43m(\u001b[49m\u001b[43m)\u001b[49m\n\u001b[0;32m    463\u001b[0m \u001b[38;5;28;01mtry\u001b[39;00m:\n\u001b[0;32m    464\u001b[0m     assert_header_parsing(httplib_response\u001b[38;5;241m.\u001b[39mmsg)\n",
      "File \u001b[1;32mC:\\Python310\\lib\\http\\client.py:1374\u001b[0m, in \u001b[0;36mHTTPConnection.getresponse\u001b[1;34m(self)\u001b[0m\n\u001b[0;32m   1372\u001b[0m \u001b[38;5;28;01mtry\u001b[39;00m:\n\u001b[0;32m   1373\u001b[0m     \u001b[38;5;28;01mtry\u001b[39;00m:\n\u001b[1;32m-> 1374\u001b[0m         \u001b[43mresponse\u001b[49m\u001b[38;5;241;43m.\u001b[39;49m\u001b[43mbegin\u001b[49m\u001b[43m(\u001b[49m\u001b[43m)\u001b[49m\n\u001b[0;32m   1375\u001b[0m     \u001b[38;5;28;01mexcept\u001b[39;00m \u001b[38;5;167;01mConnectionError\u001b[39;00m:\n\u001b[0;32m   1376\u001b[0m         \u001b[38;5;28mself\u001b[39m\u001b[38;5;241m.\u001b[39mclose()\n",
      "File \u001b[1;32mC:\\Python310\\lib\\http\\client.py:318\u001b[0m, in \u001b[0;36mHTTPResponse.begin\u001b[1;34m(self)\u001b[0m\n\u001b[0;32m    316\u001b[0m \u001b[38;5;66;03m# read until we get a non-100 response\u001b[39;00m\n\u001b[0;32m    317\u001b[0m \u001b[38;5;28;01mwhile\u001b[39;00m \u001b[38;5;28;01mTrue\u001b[39;00m:\n\u001b[1;32m--> 318\u001b[0m     version, status, reason \u001b[38;5;241m=\u001b[39m \u001b[38;5;28;43mself\u001b[39;49m\u001b[38;5;241;43m.\u001b[39;49m\u001b[43m_read_status\u001b[49m\u001b[43m(\u001b[49m\u001b[43m)\u001b[49m\n\u001b[0;32m    319\u001b[0m     \u001b[38;5;28;01mif\u001b[39;00m status \u001b[38;5;241m!=\u001b[39m CONTINUE:\n\u001b[0;32m    320\u001b[0m         \u001b[38;5;28;01mbreak\u001b[39;00m\n",
      "File \u001b[1;32mC:\\Python310\\lib\\http\\client.py:279\u001b[0m, in \u001b[0;36mHTTPResponse._read_status\u001b[1;34m(self)\u001b[0m\n\u001b[0;32m    278\u001b[0m \u001b[38;5;28;01mdef\u001b[39;00m \u001b[38;5;21m_read_status\u001b[39m(\u001b[38;5;28mself\u001b[39m):\n\u001b[1;32m--> 279\u001b[0m     line \u001b[38;5;241m=\u001b[39m \u001b[38;5;28mstr\u001b[39m(\u001b[38;5;28;43mself\u001b[39;49m\u001b[38;5;241;43m.\u001b[39;49m\u001b[43mfp\u001b[49m\u001b[38;5;241;43m.\u001b[39;49m\u001b[43mreadline\u001b[49m\u001b[43m(\u001b[49m\u001b[43m_MAXLINE\u001b[49m\u001b[43m \u001b[49m\u001b[38;5;241;43m+\u001b[39;49m\u001b[43m \u001b[49m\u001b[38;5;241;43m1\u001b[39;49m\u001b[43m)\u001b[49m, \u001b[38;5;124m\"\u001b[39m\u001b[38;5;124miso-8859-1\u001b[39m\u001b[38;5;124m\"\u001b[39m)\n\u001b[0;32m    280\u001b[0m     \u001b[38;5;28;01mif\u001b[39;00m \u001b[38;5;28mlen\u001b[39m(line) \u001b[38;5;241m>\u001b[39m _MAXLINE:\n\u001b[0;32m    281\u001b[0m         \u001b[38;5;28;01mraise\u001b[39;00m LineTooLong(\u001b[38;5;124m\"\u001b[39m\u001b[38;5;124mstatus line\u001b[39m\u001b[38;5;124m\"\u001b[39m)\n",
      "File \u001b[1;32mC:\\Python310\\lib\\socket.py:705\u001b[0m, in \u001b[0;36mSocketIO.readinto\u001b[1;34m(self, b)\u001b[0m\n\u001b[0;32m    703\u001b[0m \u001b[38;5;28;01mwhile\u001b[39;00m \u001b[38;5;28;01mTrue\u001b[39;00m:\n\u001b[0;32m    704\u001b[0m     \u001b[38;5;28;01mtry\u001b[39;00m:\n\u001b[1;32m--> 705\u001b[0m         \u001b[38;5;28;01mreturn\u001b[39;00m \u001b[38;5;28;43mself\u001b[39;49m\u001b[38;5;241;43m.\u001b[39;49m\u001b[43m_sock\u001b[49m\u001b[38;5;241;43m.\u001b[39;49m\u001b[43mrecv_into\u001b[49m\u001b[43m(\u001b[49m\u001b[43mb\u001b[49m\u001b[43m)\u001b[49m\n\u001b[0;32m    706\u001b[0m     \u001b[38;5;28;01mexcept\u001b[39;00m timeout:\n\u001b[0;32m    707\u001b[0m         \u001b[38;5;28mself\u001b[39m\u001b[38;5;241m.\u001b[39m_timeout_occurred \u001b[38;5;241m=\u001b[39m \u001b[38;5;28;01mTrue\u001b[39;00m\n",
      "\u001b[1;31mKeyboardInterrupt\u001b[0m: "
     ]
    }
   ],
   "source": [
    "iterationsReviews(get)"
   ]
  },
  {
   "cell_type": "code",
   "execution_count": 29,
   "metadata": {},
   "outputs": [],
   "source": [
    "\n",
    "    "
   ]
  },
  {
   "cell_type": "code",
   "execution_count": 25,
   "metadata": {},
   "outputs": [],
   "source": [
    "a, b = reform(\"https://www.tripadvisor.com/Hotel_Review-g60763-d6385164-Reviews-CitizenM_New_York_Times_Square-New_York_City_New_York.html#REVIEWS\")"
   ]
  },
  {
   "cell_type": "code",
   "execution_count": 26,
   "metadata": {},
   "outputs": [
    {
     "data": {
      "text/plain": [
       "'https://www.tripadvisor.com/Hotel_Review-g60763-d6385164-Reviews-or-CitizenM_New_York_Times_Square-New_York_City_New_York.html#REVIEWS'"
      ]
     },
     "execution_count": 26,
     "metadata": {},
     "output_type": "execute_result"
    }
   ],
   "source": [
    "a+\"Reviews-or\"+b"
   ]
  },
  {
   "cell_type": "code",
   "execution_count": null,
   "metadata": {},
   "outputs": [],
   "source": [
    "b"
   ]
  },
  {
   "cell_type": "code",
   "execution_count": null,
   "metadata": {},
   "outputs": [],
   "source": [
    "reform(\"https://www.tripadvisor.com/Attraction_Review-g60763-d102741-Reviews-Brooklyn_Bridge-New_York_City_New_York.html\")[0]"
   ]
  }
 ],
 "metadata": {
  "kernelspec": {
   "display_name": "scrap",
   "language": "python",
   "name": "python3"
  },
  "language_info": {
   "codemirror_mode": {
    "name": "ipython",
    "version": 3
   },
   "file_extension": ".py",
   "mimetype": "text/x-python",
   "name": "python",
   "nbconvert_exporter": "python",
   "pygments_lexer": "ipython3",
   "version": "3.10.5"
  }
 },
 "nbformat": 4,
 "nbformat_minor": 2
}
