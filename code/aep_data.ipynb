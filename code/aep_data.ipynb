{
 "cells": [
  {
   "cell_type": "code",
   "execution_count": 1,
   "metadata": {},
   "outputs": [],
   "source": [
    "\n",
    "import pandas as pd\n",
    "import os\n",
    "import random\n",
    "from random import choice\n",
    "import numpy as np\n",
    "\n",
    "import math\n",
    "import re\n",
    "from scipy.sparse import csr_matrix\n",
    "import matplotlib.pyplot as plt\n",
    "import seaborn as sns"
   ]
  },
  {
   "cell_type": "code",
   "execution_count": 2,
   "metadata": {},
   "outputs": [],
   "source": [
    "data = pd.read_csv('attractions_data10.csv')\n",
    "data.set_index('attration_id', inplace = True)"
   ]
  },
  {
   "cell_type": "code",
   "execution_count": 3,
   "metadata": {},
   "outputs": [
    {
     "data": {
      "text/html": [
       "<div>\n",
       "<style scoped>\n",
       "    .dataframe tbody tr th:only-of-type {\n",
       "        vertical-align: middle;\n",
       "    }\n",
       "\n",
       "    .dataframe tbody tr th {\n",
       "        vertical-align: top;\n",
       "    }\n",
       "\n",
       "    .dataframe thead th {\n",
       "        text-align: right;\n",
       "    }\n",
       "</style>\n",
       "<table border=\"1\" class=\"dataframe\">\n",
       "  <thead>\n",
       "    <tr style=\"text-align: right;\">\n",
       "      <th></th>\n",
       "      <th>Unnamed: 0</th>\n",
       "      <th>country</th>\n",
       "      <th>province</th>\n",
       "      <th>city</th>\n",
       "      <th>lien_detail</th>\n",
       "      <th>image</th>\n",
       "      <th>titre</th>\n",
       "      <th>nbre_review</th>\n",
       "      <th>address</th>\n",
       "      <th>description</th>\n",
       "      <th>score</th>\n",
       "      <th>price</th>\n",
       "    </tr>\n",
       "    <tr>\n",
       "      <th>attration_id</th>\n",
       "      <th></th>\n",
       "      <th></th>\n",
       "      <th></th>\n",
       "      <th></th>\n",
       "      <th></th>\n",
       "      <th></th>\n",
       "      <th></th>\n",
       "      <th></th>\n",
       "      <th></th>\n",
       "      <th></th>\n",
       "      <th></th>\n",
       "      <th></th>\n",
       "    </tr>\n",
       "  </thead>\n",
       "  <tbody>\n",
       "    <tr>\n",
       "      <th>0</th>\n",
       "      <td>0</td>\n",
       "      <td>United States</td>\n",
       "      <td>New York (NY)</td>\n",
       "      <td>New York City</td>\n",
       "      <td>https://www.tripadvisor.com/Attraction_Review-...</td>\n",
       "      <td>['https://dynamic-media-cdn.tripadvisor.com/me...</td>\n",
       "      <td>1. Central Park</td>\n",
       "      <td>134000</td>\n",
       "      <td>{'lat': 40.71304703, 'lng': -74.00723267}</td>\n",
       "      <td>Points of Interest &amp; Landmarks • Parks</td>\n",
       "      <td>4.5</td>\n",
       "      <td>200.00</td>\n",
       "    </tr>\n",
       "    <tr>\n",
       "      <th>1</th>\n",
       "      <td>1</td>\n",
       "      <td>United States</td>\n",
       "      <td>New York (NY)</td>\n",
       "      <td>New York City</td>\n",
       "      <td>https://www.tripadvisor.com/Attraction_Review-...</td>\n",
       "      <td>['https://dynamic-media-cdn.tripadvisor.com/me...</td>\n",
       "      <td>2. The National 9/11 Memorial &amp; Museum</td>\n",
       "      <td>96883</td>\n",
       "      <td>{'lat': 40.71304703, 'lng': -74.00723267}</td>\n",
       "      <td>Speciality Museums • Historic Sites</td>\n",
       "      <td>4.5</td>\n",
       "      <td>33.00</td>\n",
       "    </tr>\n",
       "    <tr>\n",
       "      <th>2</th>\n",
       "      <td>2</td>\n",
       "      <td>United States</td>\n",
       "      <td>New York (NY)</td>\n",
       "      <td>New York City</td>\n",
       "      <td>https://www.tripadvisor.com/Attraction_Review-...</td>\n",
       "      <td>['https://dynamic-media-cdn.tripadvisor.com/me...</td>\n",
       "      <td>3. The Metropolitan Museum of Art</td>\n",
       "      <td>55184</td>\n",
       "      <td>{'lat': 40.78384018, 'lng': -73.96555328}</td>\n",
       "      <td>Points of Interest &amp; Landmarks • Art Museums</td>\n",
       "      <td>5.0</td>\n",
       "      <td>126.14</td>\n",
       "    </tr>\n",
       "    <tr>\n",
       "      <th>3</th>\n",
       "      <td>3</td>\n",
       "      <td>United States</td>\n",
       "      <td>New York (NY)</td>\n",
       "      <td>New York City</td>\n",
       "      <td>https://www.tripadvisor.com/Attraction_Review-...</td>\n",
       "      <td>['https://dynamic-media-cdn.tripadvisor.com/me...</td>\n",
       "      <td>4. Empire State Building</td>\n",
       "      <td>94920</td>\n",
       "      <td>{'lat': 40.74880981, 'lng': -73.98639679}</td>\n",
       "      <td>Points of Interest &amp; Landmarks • Architectural...</td>\n",
       "      <td>4.5</td>\n",
       "      <td>48.00</td>\n",
       "    </tr>\n",
       "    <tr>\n",
       "      <th>4</th>\n",
       "      <td>4</td>\n",
       "      <td>United States</td>\n",
       "      <td>New York (NY)</td>\n",
       "      <td>New York City</td>\n",
       "      <td>https://www.tripadvisor.com/Attraction_Review-...</td>\n",
       "      <td>['https://dynamic-media-cdn.tripadvisor.com/me...</td>\n",
       "      <td>5. The High Line</td>\n",
       "      <td>62997</td>\n",
       "      <td>{'lat': 40.72782516, 'lng': -73.99477386}</td>\n",
       "      <td>Parks • Scenic Walking Areas</td>\n",
       "      <td>4.5</td>\n",
       "      <td>88.00</td>\n",
       "    </tr>\n",
       "  </tbody>\n",
       "</table>\n",
       "</div>"
      ],
      "text/plain": [
       "              Unnamed: 0        country       province           city  \\\n",
       "attration_id                                                            \n",
       "0                      0  United States  New York (NY)  New York City   \n",
       "1                      1  United States  New York (NY)  New York City   \n",
       "2                      2  United States  New York (NY)  New York City   \n",
       "3                      3  United States  New York (NY)  New York City   \n",
       "4                      4  United States  New York (NY)  New York City   \n",
       "\n",
       "                                                    lien_detail  \\\n",
       "attration_id                                                      \n",
       "0             https://www.tripadvisor.com/Attraction_Review-...   \n",
       "1             https://www.tripadvisor.com/Attraction_Review-...   \n",
       "2             https://www.tripadvisor.com/Attraction_Review-...   \n",
       "3             https://www.tripadvisor.com/Attraction_Review-...   \n",
       "4             https://www.tripadvisor.com/Attraction_Review-...   \n",
       "\n",
       "                                                          image  \\\n",
       "attration_id                                                      \n",
       "0             ['https://dynamic-media-cdn.tripadvisor.com/me...   \n",
       "1             ['https://dynamic-media-cdn.tripadvisor.com/me...   \n",
       "2             ['https://dynamic-media-cdn.tripadvisor.com/me...   \n",
       "3             ['https://dynamic-media-cdn.tripadvisor.com/me...   \n",
       "4             ['https://dynamic-media-cdn.tripadvisor.com/me...   \n",
       "\n",
       "                                               titre  nbre_review  \\\n",
       "attration_id                                                        \n",
       "0                                    1. Central Park       134000   \n",
       "1             2. The National 9/11 Memorial & Museum        96883   \n",
       "2                  3. The Metropolitan Museum of Art        55184   \n",
       "3                           4. Empire State Building        94920   \n",
       "4                                   5. The High Line        62997   \n",
       "\n",
       "                                                address  \\\n",
       "attration_id                                              \n",
       "0             {'lat': 40.71304703, 'lng': -74.00723267}   \n",
       "1             {'lat': 40.71304703, 'lng': -74.00723267}   \n",
       "2             {'lat': 40.78384018, 'lng': -73.96555328}   \n",
       "3             {'lat': 40.74880981, 'lng': -73.98639679}   \n",
       "4             {'lat': 40.72782516, 'lng': -73.99477386}   \n",
       "\n",
       "                                                    description  score   price  \n",
       "attration_id                                                                    \n",
       "0                        Points of Interest & Landmarks • Parks    4.5  200.00  \n",
       "1                           Speciality Museums • Historic Sites    4.5   33.00  \n",
       "2                  Points of Interest & Landmarks • Art Museums    5.0  126.14  \n",
       "3             Points of Interest & Landmarks • Architectural...    4.5   48.00  \n",
       "4                                  Parks • Scenic Walking Areas    4.5   88.00  "
      ]
     },
     "execution_count": 3,
     "metadata": {},
     "output_type": "execute_result"
    }
   ],
   "source": [
    "data.head(5)"
   ]
  },
  {
   "cell_type": "code",
   "execution_count": 7,
   "metadata": {},
   "outputs": [
    {
     "data": {
      "text/plain": [
       "<bound method DataFrame.info of                     country       province           city  \\\n",
       "attration_id                                                \n",
       "0             United States  New York (NY)  New York City   \n",
       "1             United States  New York (NY)  New York City   \n",
       "2             United States  New York (NY)  New York City   \n",
       "3             United States  New York (NY)  New York City   \n",
       "4             United States  New York (NY)  New York City   \n",
       "...                     ...            ...            ...   \n",
       "145           United States  New York (NY)  New York City   \n",
       "146           United States  New York (NY)  New York City   \n",
       "147           United States  New York (NY)  New York City   \n",
       "148           United States  New York (NY)  New York City   \n",
       "149           United States  New York (NY)  New York City   \n",
       "\n",
       "                                                    lien_detail  \\\n",
       "attration_id                                                      \n",
       "0             https://www.tripadvisor.com/AttractionProductR...   \n",
       "1             https://www.tripadvisor.com/AttractionProductR...   \n",
       "2             https://www.tripadvisor.com/AttractionProductR...   \n",
       "3             https://www.tripadvisor.com/AttractionProductR...   \n",
       "4             https://www.tripadvisor.com/AttractionProductR...   \n",
       "...                                                         ...   \n",
       "145           https://www.tripadvisor.com/AttractionProductR...   \n",
       "146           https://www.tripadvisor.com/AttractionProductR...   \n",
       "147           https://www.tripadvisor.com/AttractionProductR...   \n",
       "148           https://www.tripadvisor.com/AttractionProductR...   \n",
       "149           https://www.tripadvisor.com/AttractionProductR...   \n",
       "\n",
       "             per_adult_value  \\\n",
       "attration_id                   \n",
       "0                  per adult   \n",
       "1                  per adult   \n",
       "2                  per adult   \n",
       "3                  per adult   \n",
       "4                  per adult   \n",
       "...                      ...   \n",
       "145                per adult   \n",
       "146                per adult   \n",
       "147                per group   \n",
       "148                per adult   \n",
       "149                per group   \n",
       "\n",
       "                                                          image  \\\n",
       "attration_id                                                      \n",
       "0             https://dynamic-media-cdn.tripadvisor.com/medi...   \n",
       "1             https://dynamic-media-cdn.tripadvisor.com/medi...   \n",
       "2             https://dynamic-media-cdn.tripadvisor.com/medi...   \n",
       "3             https://dynamic-media-cdn.tripadvisor.com/medi...   \n",
       "4             https://dynamic-media-cdn.tripadvisor.com/medi...   \n",
       "...                                                         ...   \n",
       "145           https://dynamic-media-cdn.tripadvisor.com/medi...   \n",
       "146           https://dynamic-media-cdn.tripadvisor.com/medi...   \n",
       "147           https://dynamic-media-cdn.tripadvisor.com/medi...   \n",
       "148           https://dynamic-media-cdn.tripadvisor.com/medi...   \n",
       "149           https://dynamic-media-cdn.tripadvisor.com/medi...   \n",
       "\n",
       "                                                          titre  nbre_review  \\\n",
       "attration_id                                                                   \n",
       "0                1. New York in One Day Guided Sightseeing Tour         3707   \n",
       "1             2. New York Helicopter Tour: Manhattan Highlights          641   \n",
       "2             3. New York Helicopter Tour: Ultimate Manhatta...          528   \n",
       "3                  4. The Manhattan Helicopter Tour of New York          300   \n",
       "4                               5. Empire State Building Ticket         1378   \n",
       "...                                                         ...          ...   \n",
       "145           146. Excursion to Washington from New York in ...          172   \n",
       "146           147. Ultimate Rooftop Bar & Lounge Night Tour NYC           25   \n",
       "147                    148. Pedicab Guided Tour of Central Park          225   \n",
       "148           149. BEST Niagara Falls USA and Washington DC ...          123   \n",
       "149           150. NYC Central Park Horse and Carriage Ride:...           17   \n",
       "\n",
       "                                                address           description  \\\n",
       "attration_id                                                                    \n",
       "0             {'lat': 40.71304703, 'lng': -74.00723267}             Bus Tours   \n",
       "1             {'lat': 40.71304703, 'lng': -74.00723267}       Adventure Tours   \n",
       "2                                      No Address Found      Helicopter Tours   \n",
       "3             {'lat': 40.71304703, 'lng': -74.00723267}       Adventure Tours   \n",
       "4             {'lat': 40.71304703, 'lng': -74.00723267}      Historical Tours   \n",
       "...                                                 ...                   ...   \n",
       "145           {'lat': 40.71304703, 'lng': -74.00723267}        Full-day Tours   \n",
       "146           {'lat': 40.71304703, 'lng': -74.00723267}          Food & Drink   \n",
       "147           {'lat': 40.71304703, 'lng': -74.00723267}            City Tours   \n",
       "148           {'lat': 40.71304703, 'lng': -74.00723267}       Adventure Tours   \n",
       "149           {'lat': 40.71304703, 'lng': -74.00723267}  Horse Carriage Rides   \n",
       "\n",
       "                       time  score  \\\n",
       "attration_id                         \n",
       "0                   6 hours    5.0   \n",
       "1             12–15 minutes    5.0   \n",
       "2             17–20 minutes    5.0   \n",
       "3             12–15 minutes    4.5   \n",
       "4             45–90 minutes    4.5   \n",
       "...                     ...    ...   \n",
       "145                6+ hours    4.5   \n",
       "146                 3 hours    4.5   \n",
       "147              40 minutes    5.0   \n",
       "148                  3 days    5.0   \n",
       "149              45 minutes    4.0   \n",
       "\n",
       "                                               long_description  price  \n",
       "attration_id                                                            \n",
       "0             Combine New York City’s top attractions in a g...   99.0  \n",
       "1             Get a perspective on New York City that most v...  239.0  \n",
       "2             Avoid the congestion of New York City down on ...  289.0  \n",
       "3             It might seem impossible to see the highlights...  209.0  \n",
       "4             No visit to New York is complete without exper...   48.0  \n",
       "...                                                         ...    ...  \n",
       "145           Mandatory Carry Passport to enter the Arlingto...  119.0  \n",
       "146           The Hells Kitchen neighborhood is one of New Y...   36.0  \n",
       "147           Explore the expanse of Central Park, one of Ne...  125.0  \n",
       "148           Visit the nation’s capital at Washington, D.C....  360.0  \n",
       "149           Pass by many historical landmarks of the Centr...  155.0  \n",
       "\n",
       "[150 rows x 14 columns]>"
      ]
     },
     "execution_count": 7,
     "metadata": {},
     "output_type": "execute_result"
    }
   ],
   "source": [
    "data.info"
   ]
  },
  {
   "cell_type": "code",
   "execution_count": 4,
   "metadata": {},
   "outputs": [
    {
     "data": {
      "text/plain": [
       "Index(['Unnamed: 0', 'country', 'province', 'city', 'lien_detail', 'image',\n",
       "       'titre', 'nbre_review', 'address', 'description', 'score', 'price'],\n",
       "      dtype='object')"
      ]
     },
     "execution_count": 4,
     "metadata": {},
     "output_type": "execute_result"
    }
   ],
   "source": [
    "data.columns"
   ]
  },
  {
   "cell_type": "code",
   "execution_count": 5,
   "metadata": {},
   "outputs": [
    {
     "data": {
      "text/plain": [
       "Unnamed: 0     0\n",
       "country        0\n",
       "province       0\n",
       "city           0\n",
       "lien_detail    0\n",
       "image          0\n",
       "titre          0\n",
       "nbre_review    0\n",
       "address        0\n",
       "description    0\n",
       "score          0\n",
       "price          0\n",
       "dtype: int64"
      ]
     },
     "execution_count": 5,
     "metadata": {},
     "output_type": "execute_result"
    }
   ],
   "source": [
    "data.isnull().sum()"
   ]
  },
  {
   "cell_type": "code",
   "execution_count": 6,
   "metadata": {},
   "outputs": [
    {
     "data": {
      "text/plain": [
       "(150, 12)"
      ]
     },
     "execution_count": 6,
     "metadata": {},
     "output_type": "execute_result"
    }
   ],
   "source": [
    "data.shape"
   ]
  },
  {
   "cell_type": "code",
   "execution_count": 7,
   "metadata": {},
   "outputs": [
    {
     "data": {
      "text/plain": [
       "Unnamed: 0     150\n",
       "country          1\n",
       "province         1\n",
       "city             1\n",
       "lien_detail    150\n",
       "image          127\n",
       "titre          150\n",
       "nbre_review    143\n",
       "address         28\n",
       "description     68\n",
       "score            3\n",
       "price           75\n",
       "dtype: int64"
      ]
     },
     "execution_count": 7,
     "metadata": {},
     "output_type": "execute_result"
    }
   ],
   "source": [
    "data.nunique()"
   ]
  },
  {
   "cell_type": "code",
   "execution_count": 8,
   "metadata": {},
   "outputs": [
    {
     "data": {
      "text/plain": [
       "array([4. , 4.5, 5. ])"
      ]
     },
     "execution_count": 8,
     "metadata": {},
     "output_type": "execute_result"
    }
   ],
   "source": [
    "\n",
    "np.sort(data['score'].unique())"
   ]
  },
  {
   "cell_type": "code",
   "execution_count": 9,
   "metadata": {},
   "outputs": [
    {
     "name": "stdout",
     "output_type": "stream",
     "text": [
      "item: Unnamed: 0 , <class 'numpy.int64'>\n",
      "item: country , <class 'str'>\n",
      "item: province , <class 'str'>\n",
      "item: city , <class 'str'>\n",
      "item: lien_detail , <class 'str'>\n",
      "item: image , <class 'str'>\n",
      "item: titre , <class 'str'>\n",
      "item: nbre_review , <class 'numpy.int64'>\n",
      "item: address , <class 'str'>\n",
      "item: description , <class 'str'>\n",
      "item: score , <class 'numpy.float64'>\n",
      "item: price , <class 'numpy.float64'>\n"
     ]
    }
   ],
   "source": [
    "for item in data.columns:\n",
    "    print(f'item:', item,',',type(data[item][0]))"
   ]
  },
  {
   "cell_type": "code",
   "execution_count": 10,
   "metadata": {},
   "outputs": [
    {
     "data": {
      "text/plain": [
       "13419.439999999999"
      ]
     },
     "execution_count": 10,
     "metadata": {},
     "output_type": "execute_result"
    }
   ],
   "source": [
    "data[data['price'] != -1]['price'].sum() # la sommes des prix"
   ]
  },
  {
   "cell_type": "code",
   "execution_count": 14,
   "metadata": {},
   "outputs": [
    {
     "data": {
      "text/plain": [
       "-1.0"
      ]
     },
     "execution_count": 14,
     "metadata": {},
     "output_type": "execute_result"
    }
   ],
   "source": [
    "data[data['price'] == -1]['price'].sum()"
   ]
  },
  {
   "cell_type": "code",
   "execution_count": 15,
   "metadata": {},
   "outputs": [
    {
     "data": {
      "text/plain": [
       "-1.0"
      ]
     },
     "execution_count": 15,
     "metadata": {},
     "output_type": "execute_result"
    }
   ],
   "source": [
    "data[data['price'] == -1]['price'].sum() # 123 attractions sans prix"
   ]
  },
  {
   "cell_type": "code",
   "execution_count": 18,
   "metadata": {},
   "outputs": [
    {
     "data": {
      "text/plain": [
       "0      https://www.tripadvisor.com/AttractionProductR...\n",
       "1      https://www.tripadvisor.com/AttractionProductR...\n",
       "2      https://www.tripadvisor.com/AttractionProductR...\n",
       "3      https://www.tripadvisor.com/AttractionProductR...\n",
       "4      https://www.tripadvisor.com/AttractionProductR...\n",
       "                             ...                        \n",
       "145    https://www.tripadvisor.com/AttractionProductR...\n",
       "146    https://www.tripadvisor.com/AttractionProductR...\n",
       "147    https://www.tripadvisor.com/AttractionProductR...\n",
       "148    https://www.tripadvisor.com/AttractionProductR...\n",
       "149    https://www.tripadvisor.com/AttractionProductR...\n",
       "Name: lien_detail, Length: 150, dtype: object"
      ]
     },
     "execution_count": 18,
     "metadata": {},
     "output_type": "execute_result"
    }
   ],
   "source": [
    "data['lien_detail']"
   ]
  }
 ],
 "metadata": {
  "kernelspec": {
   "display_name": "scrap",
   "language": "python",
   "name": "python3"
  },
  "language_info": {
   "codemirror_mode": {
    "name": "ipython",
    "version": 3
   },
   "file_extension": ".py",
   "mimetype": "text/x-python",
   "name": "python",
   "nbconvert_exporter": "python",
   "pygments_lexer": "ipython3",
   "version": "3.10.5"
  }
 },
 "nbformat": 4,
 "nbformat_minor": 2
}
