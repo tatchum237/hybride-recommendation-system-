{
 "cells": [
  {
   "cell_type": "code",
   "execution_count": 11,
   "metadata": {},
   "outputs": [],
   "source": [
    "\n",
    "import pandas as pd\n",
    "import os\n",
    "import random\n",
    "from random import choice\n",
    "import numpy as np\n",
    "\n",
    "import math\n",
    "import re\n",
    "from scipy.sparse import csr_matrix\n",
    "import matplotlib.pyplot as plt\n",
    "import seaborn as sns\n",
    "#from surprise import Reader, Dataset, SVD, evaluate\n",
    "sns.set_style(\"ticks\")\n",
    "\n"
   ]
  },
  {
   "cell_type": "code",
   "execution_count": 9,
   "metadata": {},
   "outputs": [
    {
     "name": "stdout",
     "output_type": "stream",
     "text": [
      "Collecting surprise\n",
      "  Downloading surprise-0.1-py2.py3-none-any.whl (1.8 kB)\n",
      "Collecting scikit-surprise\n",
      "  Downloading scikit-surprise-1.1.3.tar.gz (771 kB)\n",
      "     ------------------------------------ 772.0/772.0 KB 275.4 kB/s eta 0:00:00\n",
      "  Preparing metadata (setup.py): started\n",
      "  Preparing metadata (setup.py): finished with status 'done'\n",
      "Collecting joblib>=1.0.0\n",
      "  Using cached joblib-1.3.2-py3-none-any.whl (302 kB)\n",
      "Requirement already satisfied: numpy>=1.17.3 in c:\\users\\michel\\scrap\\lib\\site-packages (from scikit-surprise->surprise) (1.26.2)\n",
      "Requirement already satisfied: scipy>=1.3.2 in c:\\users\\michel\\scrap\\lib\\site-packages (from scikit-surprise->surprise) (1.12.0)\n",
      "Using legacy 'setup.py install' for scikit-surprise, since package 'wheel' is not installed.\n",
      "Installing collected packages: joblib, scikit-surprise, surprise\n",
      "  Running setup.py install for scikit-surprise: started\n",
      "  Running setup.py install for scikit-surprise: finished with status 'error'\n"
     ]
    },
    {
     "name": "stderr",
     "output_type": "stream",
     "text": [
      "  error: subprocess-exited-with-error\n",
      "  \n",
      "  × Running setup.py install for scikit-surprise did not run successfully.\n",
      "  │ exit code: 1\n",
      "  ╰─> [50 lines of output]\n",
      "      running install\n",
      "      running build\n",
      "      running build_py\n",
      "      creating build\n",
      "      creating build\\lib.win-amd64-3.10\n",
      "      creating build\\lib.win-amd64-3.10\\surprise\n",
      "      copying surprise\\accuracy.py -> build\\lib.win-amd64-3.10\\surprise\n",
      "      copying surprise\\builtin_datasets.py -> build\\lib.win-amd64-3.10\\surprise\n",
      "      copying surprise\\dataset.py -> build\\lib.win-amd64-3.10\\surprise\n",
      "      copying surprise\\dump.py -> build\\lib.win-amd64-3.10\\surprise\n",
      "      copying surprise\\reader.py -> build\\lib.win-amd64-3.10\\surprise\n",
      "      copying surprise\\trainset.py -> build\\lib.win-amd64-3.10\\surprise\n",
      "      copying surprise\\utils.py -> build\\lib.win-amd64-3.10\\surprise\n",
      "      copying surprise\\__init__.py -> build\\lib.win-amd64-3.10\\surprise\n",
      "      copying surprise\\__main__.py -> build\\lib.win-amd64-3.10\\surprise\n",
      "      creating build\\lib.win-amd64-3.10\\surprise\\model_selection\n",
      "      copying surprise\\model_selection\\search.py -> build\\lib.win-amd64-3.10\\surprise\\model_selection\n",
      "      copying surprise\\model_selection\\split.py -> build\\lib.win-amd64-3.10\\surprise\\model_selection\n",
      "      copying surprise\\model_selection\\validation.py -> build\\lib.win-amd64-3.10\\surprise\\model_selection\n",
      "      copying surprise\\model_selection\\__init__.py -> build\\lib.win-amd64-3.10\\surprise\\model_selection\n",
      "      creating build\\lib.win-amd64-3.10\\surprise\\prediction_algorithms\n",
      "      copying surprise\\prediction_algorithms\\algo_base.py -> build\\lib.win-amd64-3.10\\surprise\\prediction_algorithms\n",
      "      copying surprise\\prediction_algorithms\\baseline_only.py -> build\\lib.win-amd64-3.10\\surprise\\prediction_algorithms\n",
      "      copying surprise\\prediction_algorithms\\knns.py -> build\\lib.win-amd64-3.10\\surprise\\prediction_algorithms\n",
      "      copying surprise\\prediction_algorithms\\predictions.py -> build\\lib.win-amd64-3.10\\surprise\\prediction_algorithms\n",
      "      copying surprise\\prediction_algorithms\\random_pred.py -> build\\lib.win-amd64-3.10\\surprise\\prediction_algorithms\n",
      "      copying surprise\\prediction_algorithms\\__init__.py -> build\\lib.win-amd64-3.10\\surprise\\prediction_algorithms\n",
      "      running egg_info\n",
      "      writing scikit_surprise.egg-info\\PKG-INFO\n",
      "      writing dependency_links to scikit_surprise.egg-info\\dependency_links.txt\n",
      "      writing entry points to scikit_surprise.egg-info\\entry_points.txt\n",
      "      writing requirements to scikit_surprise.egg-info\\requires.txt\n",
      "      writing top-level names to scikit_surprise.egg-info\\top_level.txt\n",
      "      reading manifest file 'scikit_surprise.egg-info\\SOURCES.txt'\n",
      "      reading manifest template 'MANIFEST.in'\n",
      "      adding license file 'LICENSE.md'\n",
      "      writing manifest file 'scikit_surprise.egg-info\\SOURCES.txt'\n",
      "      copying surprise\\similarities.c -> build\\lib.win-amd64-3.10\\surprise\n",
      "      copying surprise\\similarities.pyx -> build\\lib.win-amd64-3.10\\surprise\n",
      "      copying surprise\\prediction_algorithms\\co_clustering.c -> build\\lib.win-amd64-3.10\\surprise\\prediction_algorithms\n",
      "      copying surprise\\prediction_algorithms\\matrix_factorization.c -> build\\lib.win-amd64-3.10\\surprise\\prediction_algorithms\n",
      "      copying surprise\\prediction_algorithms\\optimize_baselines.c -> build\\lib.win-amd64-3.10\\surprise\\prediction_algorithms\n",
      "      copying surprise\\prediction_algorithms\\slope_one.c -> build\\lib.win-amd64-3.10\\surprise\\prediction_algorithms\n",
      "      copying surprise\\prediction_algorithms\\co_clustering.pyx -> build\\lib.win-amd64-3.10\\surprise\\prediction_algorithms\n",
      "      copying surprise\\prediction_algorithms\\matrix_factorization.pyx -> build\\lib.win-amd64-3.10\\surprise\\prediction_algorithms\n",
      "      copying surprise\\prediction_algorithms\\optimize_baselines.pyx -> build\\lib.win-amd64-3.10\\surprise\\prediction_algorithms\n",
      "      copying surprise\\prediction_algorithms\\slope_one.pyx -> build\\lib.win-amd64-3.10\\surprise\\prediction_algorithms\n",
      "      running build_ext\n",
      "      building 'surprise.similarities' extension\n",
      "      error: Microsoft Visual C++ 14.0 or greater is required. Get it with \"Microsoft C++ Build Tools\": https://visualstudio.microsoft.com/visual-cpp-build-tools/\n",
      "      [end of output]\n",
      "  \n",
      "  note: This error originates from a subprocess, and is likely not a problem with pip.\n",
      "error: legacy-install-failure\n",
      "\n",
      "× Encountered error while trying to install package.\n",
      "╰─> scikit-surprise\n",
      "\n",
      "note: This is an issue with the package mentioned above, not pip.\n",
      "hint: See above for output from the failure.\n",
      "WARNING: You are using pip version 22.0.4; however, version 24.0 is available.\n",
      "You should consider upgrading via the 'C:\\Users\\Michel\\scrap\\Scripts\\python.exe -m pip install --upgrade pip' command.\n"
     ]
    }
   ],
   "source": [
    "!pip install surprise"
   ]
  },
  {
   "cell_type": "code",
   "execution_count": null,
   "metadata": {},
   "outputs": [],
   "source": []
  },
  {
   "cell_type": "code",
   "execution_count": 2,
   "metadata": {},
   "outputs": [],
   "source": [
    "data = pd.read_csv('attraction_reviews.csv')"
   ]
  },
  {
   "cell_type": "code",
   "execution_count": 4,
   "metadata": {},
   "outputs": [
    {
     "data": {
      "text/html": [
       "<div>\n",
       "<style scoped>\n",
       "    .dataframe tbody tr th:only-of-type {\n",
       "        vertical-align: middle;\n",
       "    }\n",
       "\n",
       "    .dataframe tbody tr th {\n",
       "        vertical-align: top;\n",
       "    }\n",
       "\n",
       "    .dataframe thead th {\n",
       "        text-align: right;\n",
       "    }\n",
       "</style>\n",
       "<table border=\"1\" class=\"dataframe\">\n",
       "  <thead>\n",
       "    <tr style=\"text-align: right;\">\n",
       "      <th></th>\n",
       "      <th>image_user</th>\n",
       "      <th>name_user</th>\n",
       "      <th>info_user</th>\n",
       "      <th>type_review</th>\n",
       "      <th>date_review</th>\n",
       "      <th>text_review</th>\n",
       "      <th>score_user</th>\n",
       "      <th>attraction_id</th>\n",
       "    </tr>\n",
       "  </thead>\n",
       "  <tbody>\n",
       "    <tr>\n",
       "      <th>0</th>\n",
       "      <td>https://dynamic-media-cdn.tripadvisor.com/medi...</td>\n",
       "      <td>bucketlisttravel</td>\n",
       "      <td>Saint Paul, MN11 contributions</td>\n",
       "      <td>So lively!!</td>\n",
       "      <td>January 6, 2024</td>\n",
       "      <td>Lively people. Happy kids. Beautiful skyline. ...</td>\n",
       "      <td>5.0</td>\n",
       "      <td>0</td>\n",
       "    </tr>\n",
       "    <tr>\n",
       "      <th>1</th>\n",
       "      <td>https://dynamic-media-cdn.tripadvisor.com/medi...</td>\n",
       "      <td>WPLandry</td>\n",
       "      <td>Fairfax, VA545 contributions</td>\n",
       "      <td>Beautiful &amp; spacious</td>\n",
       "      <td>January 6, 2024</td>\n",
       "      <td>Central Park is an amazing escape from the bus...</td>\n",
       "      <td>5.0</td>\n",
       "      <td>0</td>\n",
       "    </tr>\n",
       "    <tr>\n",
       "      <th>2</th>\n",
       "      <td>https://dynamic-media-cdn.tripadvisor.com/medi...</td>\n",
       "      <td>Rumzzz</td>\n",
       "      <td>Irving, TX77 contributions</td>\n",
       "      <td>Spectacular</td>\n",
       "      <td>January 6, 2024</td>\n",
       "      <td>One can never get enough of Central Park - the...</td>\n",
       "      <td>5.0</td>\n",
       "      <td>0</td>\n",
       "    </tr>\n",
       "    <tr>\n",
       "      <th>3</th>\n",
       "      <td>https://dynamic-media-cdn.tripadvisor.com/medi...</td>\n",
       "      <td>A Ruiz</td>\n",
       "      <td>Lahaina, HI56 contributions</td>\n",
       "      <td>Awesome experience!</td>\n",
       "      <td>December 30, 2023</td>\n",
       "      <td>Carriage ride around the park with historical ...</td>\n",
       "      <td>5.0</td>\n",
       "      <td>0</td>\n",
       "    </tr>\n",
       "    <tr>\n",
       "      <th>4</th>\n",
       "      <td>https://dynamic-media-cdn.tripadvisor.com/medi...</td>\n",
       "      <td>BeakerTX</td>\n",
       "      <td>San Antonio, TX572 contributions</td>\n",
       "      <td>It's a park!</td>\n",
       "      <td>December 28, 2023</td>\n",
       "      <td>Nice family stroll through the southern part o...</td>\n",
       "      <td>5.0</td>\n",
       "      <td>0</td>\n",
       "    </tr>\n",
       "  </tbody>\n",
       "</table>\n",
       "</div>"
      ],
      "text/plain": [
       "                                          image_user         name_user  \\\n",
       "0  https://dynamic-media-cdn.tripadvisor.com/medi...  bucketlisttravel   \n",
       "1  https://dynamic-media-cdn.tripadvisor.com/medi...          WPLandry   \n",
       "2  https://dynamic-media-cdn.tripadvisor.com/medi...            Rumzzz   \n",
       "3  https://dynamic-media-cdn.tripadvisor.com/medi...            A Ruiz   \n",
       "4  https://dynamic-media-cdn.tripadvisor.com/medi...          BeakerTX   \n",
       "\n",
       "                          info_user           type_review        date_review  \\\n",
       "0    Saint Paul, MN11 contributions           So lively!!    January 6, 2024   \n",
       "1      Fairfax, VA545 contributions  Beautiful & spacious    January 6, 2024   \n",
       "2        Irving, TX77 contributions           Spectacular    January 6, 2024   \n",
       "3       Lahaina, HI56 contributions   Awesome experience!  December 30, 2023   \n",
       "4  San Antonio, TX572 contributions          It's a park!  December 28, 2023   \n",
       "\n",
       "                                         text_review  score_user  \\\n",
       "0  Lively people. Happy kids. Beautiful skyline. ...         5.0   \n",
       "1  Central Park is an amazing escape from the bus...         5.0   \n",
       "2  One can never get enough of Central Park - the...         5.0   \n",
       "3  Carriage ride around the park with historical ...         5.0   \n",
       "4  Nice family stroll through the southern part o...         5.0   \n",
       "\n",
       "   attraction_id  \n",
       "0              0  \n",
       "1              0  \n",
       "2              0  \n",
       "3              0  \n",
       "4              0  "
      ]
     },
     "execution_count": 4,
     "metadata": {},
     "output_type": "execute_result"
    }
   ],
   "source": [
    "data.head()"
   ]
  },
  {
   "cell_type": "code",
   "execution_count": 24,
   "metadata": {},
   "outputs": [
    {
     "data": {
      "text/plain": [
       "<bound method DataFrame.info of                                               image_user         name_user  \\\n",
       "0      https://dynamic-media-cdn.tripadvisor.com/medi...  bucketlisttravel   \n",
       "1      https://dynamic-media-cdn.tripadvisor.com/medi...          WPLandry   \n",
       "2      https://dynamic-media-cdn.tripadvisor.com/medi...            Rumzzz   \n",
       "3      https://dynamic-media-cdn.tripadvisor.com/medi...            A Ruiz   \n",
       "4      https://dynamic-media-cdn.tripadvisor.com/medi...          BeakerTX   \n",
       "...                                                  ...               ...   \n",
       "12694  https://dynamic-media-cdn.tripadvisor.com/medi...            nypuck   \n",
       "12695  https://dynamic-media-cdn.tripadvisor.com/medi...           Carol K   \n",
       "12696  https://dynamic-media-cdn.tripadvisor.com/medi...           Pili_12   \n",
       "12697  https://dynamic-media-cdn.tripadvisor.com/medi...         LazyPoint   \n",
       "12698  https://dynamic-media-cdn.tripadvisor.com/medi...   yourtravelchick   \n",
       "\n",
       "                                info_user  \\\n",
       "0          Saint Paul, MN11 contributions   \n",
       "1            Fairfax, VA545 contributions   \n",
       "2              Irving, TX77 contributions   \n",
       "3             Lahaina, HI56 contributions   \n",
       "4        San Antonio, TX572 contributions   \n",
       "...                                   ...   \n",
       "12694        Santa Fe, NM85 contributions   \n",
       "12695  New York City, NY440 contributions   \n",
       "12696   New York City, NY24 contributions   \n",
       "12697  New York City, NY235 contributions   \n",
       "12698      Ridgewood, NJ134 contributions   \n",
       "\n",
       "                                       type_review        date_review  \\\n",
       "0                                      So lively!!    January 6, 2024   \n",
       "1                             Beautiful & spacious    January 6, 2024   \n",
       "2                                      Spectacular    January 6, 2024   \n",
       "3                              Awesome experience!  December 30, 2023   \n",
       "4                                     It's a park!  December 28, 2023   \n",
       "...                                            ...                ...   \n",
       "12694  Come see where the Republicans live in NYC.  September 5, 2012   \n",
       "12695                              Nice for a walk    August 17, 2012   \n",
       "12696                                 Nice to walk      June 18, 2012   \n",
       "12697                                  I live here      June 11, 2012   \n",
       "12698               It's not just all Madison Ave!     March 13, 2012   \n",
       "\n",
       "                                             text_review  score_user  \\\n",
       "0      Lively people. Happy kids. Beautiful skyline. ...         5.0   \n",
       "1      Central Park is an amazing escape from the bus...         5.0   \n",
       "2      One can never get enough of Central Park - the...         5.0   \n",
       "3      Carriage ride around the park with historical ...         5.0   \n",
       "4      Nice family stroll through the southern part o...         5.0   \n",
       "...                                                  ...         ...   \n",
       "12694  Walk the streets to see the upper class and th...         3.0   \n",
       "12695  The houses along 5th Ave include some handsome...         3.0   \n",
       "12696  although it may be too expensive to stop to ea...         5.0   \n",
       "12697  Great museums and a few great restaurants (Caf...         5.0   \n",
       "12698  I like to wander up through Central Park and t...         5.0   \n",
       "\n",
       "       attraction_id  \n",
       "0                  0  \n",
       "1                  0  \n",
       "2                  0  \n",
       "3                  0  \n",
       "4                  0  \n",
       "...              ...  \n",
       "12694            100  \n",
       "12695            100  \n",
       "12696            100  \n",
       "12697            100  \n",
       "12698            100  \n",
       "\n",
       "[12699 rows x 8 columns]>"
      ]
     },
     "execution_count": 24,
     "metadata": {},
     "output_type": "execute_result"
    }
   ],
   "source": [
    "data.info"
   ]
  },
  {
   "cell_type": "code",
   "execution_count": 5,
   "metadata": {},
   "outputs": [
    {
     "data": {
      "text/plain": [
       "Index(['image_user', 'name_user', 'info_user', 'type_review', 'date_review',\n",
       "       'text_review', 'score_user', 'attraction_id'],\n",
       "      dtype='object')"
      ]
     },
     "execution_count": 5,
     "metadata": {},
     "output_type": "execute_result"
    }
   ],
   "source": [
    "data.columns"
   ]
  },
  {
   "cell_type": "code",
   "execution_count": 8,
   "metadata": {},
   "outputs": [
    {
     "data": {
      "text/plain": [
       "image_user       1167\n",
       "name_user           0\n",
       "info_user           0\n",
       "type_review         0\n",
       "date_review         0\n",
       "text_review         0\n",
       "score_user          0\n",
       "attraction_id       0\n",
       "dtype: int64"
      ]
     },
     "execution_count": 8,
     "metadata": {},
     "output_type": "execute_result"
    }
   ],
   "source": [
    "data.isnull().sum()"
   ]
  },
  {
   "cell_type": "code",
   "execution_count": 22,
   "metadata": {},
   "outputs": [
    {
     "data": {
      "text/plain": [
       "(12699, 8)"
      ]
     },
     "execution_count": 22,
     "metadata": {},
     "output_type": "execute_result"
    }
   ],
   "source": [
    "data.shape"
   ]
  },
  {
   "cell_type": "code",
   "execution_count": 16,
   "metadata": {},
   "outputs": [
    {
     "name": "stdout",
     "output_type": "stream",
     "text": [
      "item: image_user , <class 'str'>\n",
      "item: name_user , <class 'str'>\n",
      "item: info_user , <class 'str'>\n",
      "item: type_review , <class 'str'>\n",
      "item: date_review , <class 'str'>\n",
      "item: text_review , <class 'str'>\n",
      "item: score_user , <class 'numpy.float64'>\n",
      "item: attraction_id , <class 'numpy.int64'>\n"
     ]
    }
   ],
   "source": [
    "for item in data.columns:\n",
    "    print(f'item:', item,',',type(data[item][0]))"
   ]
  },
  {
   "cell_type": "code",
   "execution_count": 19,
   "metadata": {},
   "outputs": [
    {
     "data": {
      "text/plain": [
       "image_user        3631\n",
       "name_user         8805\n",
       "info_user         7658\n",
       "type_review      10985\n",
       "date_review       2996\n",
       "text_review      12393\n",
       "score_user           5\n",
       "attraction_id      101\n",
       "dtype: int64"
      ]
     },
     "execution_count": 19,
     "metadata": {},
     "output_type": "execute_result"
    }
   ],
   "source": [
    "data.nunique()"
   ]
  },
  {
   "cell_type": "code",
   "execution_count": 26,
   "metadata": {},
   "outputs": [
    {
     "data": {
      "text/plain": [
       "array([1., 2., 3., 4., 5.])"
      ]
     },
     "execution_count": 26,
     "metadata": {},
     "output_type": "execute_result"
    }
   ],
   "source": [
    "\n",
    "np.sort(data['score_user'].unique())"
   ]
  },
  {
   "cell_type": "code",
   "execution_count": 31,
   "metadata": {},
   "outputs": [],
   "source": [
    "from transformers import AutoTokenizer, AutoModelForSequenceClassification\n",
    "import torch"
   ]
  },
  {
   "cell_type": "code",
   "execution_count": 33,
   "metadata": {},
   "outputs": [
    {
     "name": "stderr",
     "output_type": "stream",
     "text": [
      "tokenizer_config.json: 100%|██████████| 338/338 [00:00<00:00, 168kB/s]\n",
      "c:\\Users\\Michel\\scrap\\lib\\site-packages\\huggingface_hub\\file_download.py:149: UserWarning: `huggingface_hub` cache-system uses symlinks by default to efficiently store duplicated files but your machine does not support them in C:\\Users\\Michel\\.cache\\huggingface\\hub\\models--finiteautomata--bertweet-base-sentiment-analysis. Caching files will still work but in a degraded version that might require more space on your disk. This warning can be disabled by setting the `HF_HUB_DISABLE_SYMLINKS_WARNING` environment variable. For more details, see https://huggingface.co/docs/huggingface_hub/how-to-cache#limitations.\n",
      "To support symlinks on Windows, you either need to activate Developer Mode or to run Python as an administrator. In order to see activate developer mode, see this article: https://docs.microsoft.com/en-us/windows/apps/get-started/enable-your-device-for-development\n",
      "  warnings.warn(message)\n",
      "vocab.txt: 100%|██████████| 843k/843k [00:01<00:00, 677kB/s]\n",
      "bpe.codes: 100%|██████████| 1.08M/1.08M [00:00<00:00, 1.58MB/s]\n",
      "added_tokens.json: 100%|██████████| 22.0/22.0 [00:00<?, ?B/s]\n",
      "special_tokens_map.json: 100%|██████████| 167/167 [00:00<00:00, 167kB/s]\n",
      "emoji is not installed, thus not converting emoticons or emojis into text. Install emoji: pip3 install emoji==0.6.0\n",
      "config.json: 100%|██████████| 949/949 [00:00<?, ?B/s] \n",
      "pytorch_model.bin: 100%|██████████| 540M/540M [03:55<00:00, 2.29MB/s] \n"
     ]
    }
   ],
   "source": [
    "model_name = \"finiteautomata/bertweet-base-sentiment-analysis\"\n",
    "tokenizer = AutoTokenizer.from_pretrained(model_name)\n",
    "model = AutoModelForSequenceClassification.from_pretrained(model_name)"
   ]
  },
  {
   "cell_type": "code",
   "execution_count": 53,
   "metadata": {},
   "outputs": [],
   "source": [
    "def infrerence(text):\n",
    "    try:\n",
    "        inputs = tokenizer(text, return_tensors=\"pt\")\n",
    "        outputs = model(**inputs)\n",
    "        return torch.argmax(outputs.logits, dim=1).item()\n",
    "    except:\n",
    "        try:\n",
    "            inputs = tokenizer(text, return_tensors=\"pt\")\n",
    "            outputs = model(**inputs)\n",
    "            return torch.argmax(outputs.logits, dim=1).item()\n",
    "        except:\n",
    "            inputs = tokenizer(text, return_tensors=\"pt\")\n",
    "            outputs = model(**inputs)\n",
    "            return torch.argmax(outputs.logits, dim=1).item()\n",
    "\n"
   ]
  },
  {
   "cell_type": "code",
   "execution_count": 59,
   "metadata": {},
   "outputs": [
    {
     "data": {
      "text/plain": [
       "0"
      ]
     },
     "execution_count": 59,
     "metadata": {},
     "output_type": "execute_result"
    }
   ],
   "source": [
    "infrerence(\"Very well done. Very sad but something we all must go and see and remember the innocent people and brave first responders that died for no reason, except for pure evil and hatred.\")"
   ]
  },
  {
   "cell_type": "code",
   "execution_count": 55,
   "metadata": {},
   "outputs": [],
   "source": [
    "data['sentiment_labels'] = data['text_review'].apply(infrerence)"
   ]
  },
  {
   "cell_type": "code",
   "execution_count": 57,
   "metadata": {},
   "outputs": [
    {
     "data": {
      "text/plain": [
       "0        2\n",
       "1        2\n",
       "2         \n",
       "3        2\n",
       "4        2\n",
       "        ..\n",
       "12694    2\n",
       "12695    1\n",
       "12696    2\n",
       "12697    2\n",
       "12698    2\n",
       "Name: sentiment_labels, Length: 12699, dtype: object"
      ]
     },
     "execution_count": 57,
     "metadata": {},
     "output_type": "execute_result"
    }
   ],
   "source": [
    "data['sentiment_labels']"
   ]
  },
  {
   "cell_type": "code",
   "execution_count": 58,
   "metadata": {},
   "outputs": [],
   "source": [
    "data.to_csv('data_sentiment.csv')"
   ]
  },
  {
   "cell_type": "code",
   "execution_count": 3,
   "metadata": {},
   "outputs": [],
   "source": [
    "data_sentiment = pd.read_csv('data_sentiment.csv')"
   ]
  },
  {
   "cell_type": "code",
   "execution_count": 4,
   "metadata": {},
   "outputs": [
    {
     "data": {
      "text/html": [
       "<div>\n",
       "<style scoped>\n",
       "    .dataframe tbody tr th:only-of-type {\n",
       "        vertical-align: middle;\n",
       "    }\n",
       "\n",
       "    .dataframe tbody tr th {\n",
       "        vertical-align: top;\n",
       "    }\n",
       "\n",
       "    .dataframe thead th {\n",
       "        text-align: right;\n",
       "    }\n",
       "</style>\n",
       "<table border=\"1\" class=\"dataframe\">\n",
       "  <thead>\n",
       "    <tr style=\"text-align: right;\">\n",
       "      <th></th>\n",
       "      <th>Unnamed: 0</th>\n",
       "      <th>image_user</th>\n",
       "      <th>name_user</th>\n",
       "      <th>info_user</th>\n",
       "      <th>type_review</th>\n",
       "      <th>date_review</th>\n",
       "      <th>text_review</th>\n",
       "      <th>score_user</th>\n",
       "      <th>attraction_id</th>\n",
       "      <th>sentiment_labels</th>\n",
       "    </tr>\n",
       "  </thead>\n",
       "  <tbody>\n",
       "    <tr>\n",
       "      <th>0</th>\n",
       "      <td>0</td>\n",
       "      <td>https://dynamic-media-cdn.tripadvisor.com/medi...</td>\n",
       "      <td>bucketlisttravel</td>\n",
       "      <td>Saint Paul, MN11 contributions</td>\n",
       "      <td>So lively!!</td>\n",
       "      <td>January 6, 2024</td>\n",
       "      <td>Lively people. Happy kids. Beautiful skyline. ...</td>\n",
       "      <td>5.0</td>\n",
       "      <td>0</td>\n",
       "      <td>2.0</td>\n",
       "    </tr>\n",
       "    <tr>\n",
       "      <th>1</th>\n",
       "      <td>1</td>\n",
       "      <td>https://dynamic-media-cdn.tripadvisor.com/medi...</td>\n",
       "      <td>WPLandry</td>\n",
       "      <td>Fairfax, VA545 contributions</td>\n",
       "      <td>Beautiful &amp; spacious</td>\n",
       "      <td>January 6, 2024</td>\n",
       "      <td>Central Park is an amazing escape from the bus...</td>\n",
       "      <td>5.0</td>\n",
       "      <td>0</td>\n",
       "      <td>2.0</td>\n",
       "    </tr>\n",
       "    <tr>\n",
       "      <th>2</th>\n",
       "      <td>2</td>\n",
       "      <td>https://dynamic-media-cdn.tripadvisor.com/medi...</td>\n",
       "      <td>Rumzzz</td>\n",
       "      <td>Irving, TX77 contributions</td>\n",
       "      <td>Spectacular</td>\n",
       "      <td>January 6, 2024</td>\n",
       "      <td>One can never get enough of Central Park - the...</td>\n",
       "      <td>5.0</td>\n",
       "      <td>0</td>\n",
       "      <td>NaN</td>\n",
       "    </tr>\n",
       "    <tr>\n",
       "      <th>3</th>\n",
       "      <td>3</td>\n",
       "      <td>https://dynamic-media-cdn.tripadvisor.com/medi...</td>\n",
       "      <td>A Ruiz</td>\n",
       "      <td>Lahaina, HI56 contributions</td>\n",
       "      <td>Awesome experience!</td>\n",
       "      <td>December 30, 2023</td>\n",
       "      <td>Carriage ride around the park with historical ...</td>\n",
       "      <td>5.0</td>\n",
       "      <td>0</td>\n",
       "      <td>2.0</td>\n",
       "    </tr>\n",
       "    <tr>\n",
       "      <th>4</th>\n",
       "      <td>4</td>\n",
       "      <td>https://dynamic-media-cdn.tripadvisor.com/medi...</td>\n",
       "      <td>BeakerTX</td>\n",
       "      <td>San Antonio, TX572 contributions</td>\n",
       "      <td>It's a park!</td>\n",
       "      <td>December 28, 2023</td>\n",
       "      <td>Nice family stroll through the southern part o...</td>\n",
       "      <td>5.0</td>\n",
       "      <td>0</td>\n",
       "      <td>2.0</td>\n",
       "    </tr>\n",
       "  </tbody>\n",
       "</table>\n",
       "</div>"
      ],
      "text/plain": [
       "   Unnamed: 0                                         image_user  \\\n",
       "0           0  https://dynamic-media-cdn.tripadvisor.com/medi...   \n",
       "1           1  https://dynamic-media-cdn.tripadvisor.com/medi...   \n",
       "2           2  https://dynamic-media-cdn.tripadvisor.com/medi...   \n",
       "3           3  https://dynamic-media-cdn.tripadvisor.com/medi...   \n",
       "4           4  https://dynamic-media-cdn.tripadvisor.com/medi...   \n",
       "\n",
       "          name_user                         info_user           type_review  \\\n",
       "0  bucketlisttravel    Saint Paul, MN11 contributions           So lively!!   \n",
       "1          WPLandry      Fairfax, VA545 contributions  Beautiful & spacious   \n",
       "2            Rumzzz        Irving, TX77 contributions           Spectacular   \n",
       "3            A Ruiz       Lahaina, HI56 contributions   Awesome experience!   \n",
       "4          BeakerTX  San Antonio, TX572 contributions          It's a park!   \n",
       "\n",
       "         date_review                                        text_review  \\\n",
       "0    January 6, 2024  Lively people. Happy kids. Beautiful skyline. ...   \n",
       "1    January 6, 2024  Central Park is an amazing escape from the bus...   \n",
       "2    January 6, 2024  One can never get enough of Central Park - the...   \n",
       "3  December 30, 2023  Carriage ride around the park with historical ...   \n",
       "4  December 28, 2023  Nice family stroll through the southern part o...   \n",
       "\n",
       "   score_user  attraction_id  sentiment_labels  \n",
       "0         5.0              0               2.0  \n",
       "1         5.0              0               2.0  \n",
       "2         5.0              0               NaN  \n",
       "3         5.0              0               2.0  \n",
       "4         5.0              0               2.0  "
      ]
     },
     "execution_count": 4,
     "metadata": {},
     "output_type": "execute_result"
    }
   ],
   "source": [
    "data_sentiment.head()"
   ]
  },
  {
   "cell_type": "code",
   "execution_count": 21,
   "metadata": {},
   "outputs": [
    {
     "data": {
      "text/plain": [
       "0"
      ]
     },
     "execution_count": 21,
     "metadata": {},
     "output_type": "execute_result"
    }
   ],
   "source": [
    "data_sentiment['attraction_id'].isnull().sum()"
   ]
  },
  {
   "cell_type": "code",
   "execution_count": 15,
   "metadata": {},
   "outputs": [
    {
     "data": {
      "text/html": [
       "<div>\n",
       "<style scoped>\n",
       "    .dataframe tbody tr th:only-of-type {\n",
       "        vertical-align: middle;\n",
       "    }\n",
       "\n",
       "    .dataframe tbody tr th {\n",
       "        vertical-align: top;\n",
       "    }\n",
       "\n",
       "    .dataframe thead th {\n",
       "        text-align: right;\n",
       "    }\n",
       "</style>\n",
       "<table border=\"1\" class=\"dataframe\">\n",
       "  <thead>\n",
       "    <tr style=\"text-align: right;\">\n",
       "      <th></th>\n",
       "      <th>count</th>\n",
       "    </tr>\n",
       "    <tr>\n",
       "      <th>score_user</th>\n",
       "      <th></th>\n",
       "    </tr>\n",
       "  </thead>\n",
       "  <tbody>\n",
       "    <tr>\n",
       "      <th>1.0</th>\n",
       "      <td>320</td>\n",
       "    </tr>\n",
       "    <tr>\n",
       "      <th>2.0</th>\n",
       "      <td>288</td>\n",
       "    </tr>\n",
       "    <tr>\n",
       "      <th>3.0</th>\n",
       "      <td>836</td>\n",
       "    </tr>\n",
       "    <tr>\n",
       "      <th>4.0</th>\n",
       "      <td>2954</td>\n",
       "    </tr>\n",
       "    <tr>\n",
       "      <th>5.0</th>\n",
       "      <td>8301</td>\n",
       "    </tr>\n",
       "  </tbody>\n",
       "</table>\n",
       "</div>"
      ],
      "text/plain": [
       "            count\n",
       "score_user       \n",
       "1.0           320\n",
       "2.0           288\n",
       "3.0           836\n",
       "4.0          2954\n",
       "5.0          8301"
      ]
     },
     "execution_count": 15,
     "metadata": {},
     "output_type": "execute_result"
    }
   ],
   "source": [
    "data_sentiment.groupby('score_user')['score_user'].agg(['count'])"
   ]
  },
  {
   "cell_type": "code",
   "execution_count": 27,
   "metadata": {},
   "outputs": [
    {
     "name": "stderr",
     "output_type": "stream",
     "text": [
      "C:\\Users\\Michel\\AppData\\Local\\Temp\\ipykernel_18800\\2034617029.py:1: FutureWarning: Series.__getitem__ treating keys as positions is deprecated. In a future version, integer keys will always be treated as labels (consistent with DataFrame behavior). To access a value by position, use `ser.iloc[pos]`\n",
      "  data_sentiment.isnull().sum()[1]\n"
     ]
    },
    {
     "data": {
      "text/plain": [
       "1167"
      ]
     },
     "execution_count": 27,
     "metadata": {},
     "output_type": "execute_result"
    }
   ],
   "source": [
    "data_sentiment.isnull().sum()[1]"
   ]
  },
  {
   "cell_type": "code",
   "execution_count": 22,
   "metadata": {},
   "outputs": [
    {
     "data": {
      "text/plain": [
       "12699"
      ]
     },
     "execution_count": 22,
     "metadata": {},
     "output_type": "execute_result"
    }
   ],
   "source": [
    "data_sentiment['attraction_id'].count()"
   ]
  },
  {
   "cell_type": "code",
   "execution_count": 32,
   "metadata": {},
   "outputs": [
    {
     "name": "stderr",
     "output_type": "stream",
     "text": [
      "C:\\Users\\Michel\\AppData\\Local\\Temp\\ipykernel_18800\\3786331456.py:15: FutureWarning: Series.__getitem__ treating keys as positions is deprecated. In a future version, integer keys will always be treated as labels (consistent with DataFrame behavior). To access a value by position, use `ser.iloc[pos]`\n",
      "  ax.text(p.iloc[i-1][0]/4, i-1, 'Rating {}: {:.0f}%'.format(i, p.iloc[i-1][0]*100 / p.sum()[0]), color = 'white', weight = 'bold')\n"
     ]
    },
    {
     "data": {
      "image/png": "[encoded data removed]",
      "text/plain": [
       "<Figure size 1500x1000 with 1 Axes>"
      ]
     },
     "metadata": {},
     "output_type": "display_data"
    }
   ],
   "source": [
    "p = data_sentiment.groupby('score_user')['score_user'].agg(['count'])\n",
    "\n",
    "\n",
    "# get Attraction count\n",
    "cust_count = data_sentiment['attraction_id'].nunique() \n",
    "\n",
    "# get rating count\n",
    "rating_count = data_sentiment['attraction_id'].count() \n",
    "\n",
    "ax = p.plot(kind = 'barh', legend = False, figsize = (15,10))\n",
    "plt.title('Total pool:  {:,} Attractions, {:,} ratings given'.format(cust_count, rating_count), fontsize=20)\n",
    "plt.axis('off')\n",
    "\n",
    "for i in range(1,6):\n",
    "    ax.text(p.iloc[i-1][0]/4, i-1, 'Rating {}: {:.0f}%'.format(i, p.iloc[i-1][0]*100 / p.sum()[0]), color = 'white', weight = 'bold')"
   ]
  },
  {
   "cell_type": "markdown",
   "metadata": {},
   "source": [
    "On constate que la note tend à être relativement positive (>3). Cela peut être dû au fait que les clients mécontents ont tendance à partir au lieu de faire des efforts pour évaluer. Nous pouvons garder cela à l’esprit : les filattractionsms peu bien notés signifient qu’ils sont généralement très mauvais."
   ]
  },
  {
   "cell_type": "code",
   "execution_count": 36,
   "metadata": {},
   "outputs": [
    {
     "name": "stdout",
     "output_type": "stream",
     "text": [
      "Movie minimum times of review: 140.0\n"
     ]
    }
   ],
   "source": [
    "f = ['count','mean']\n",
    "\n",
    "df_movie_summary = data_sentiment.groupby('attraction_id')['score_user'].agg(f)\n",
    "df_movie_summary.index = df_movie_summary.index.map(int)\n",
    "movie_benchmark = round(df_movie_summary['count'].quantile(0.8),0)\n",
    "drop_movie_list = df_movie_summary[df_movie_summary['count'] < movie_benchmark].index\n",
    "\n",
    "print('Movie minimum times of review: {}'.format(movie_benchmark))\n",
    "\n"
   ]
  },
  {
   "cell_type": "code",
   "execution_count": 40,
   "metadata": {},
   "outputs": [
    {
     "data": {
      "text/html": [
       "<div>\n",
       "<style scoped>\n",
       "    .dataframe tbody tr th:only-of-type {\n",
       "        vertical-align: middle;\n",
       "    }\n",
       "\n",
       "    .dataframe tbody tr th {\n",
       "        vertical-align: top;\n",
       "    }\n",
       "\n",
       "    .dataframe thead th {\n",
       "        text-align: right;\n",
       "    }\n",
       "</style>\n",
       "<table border=\"1\" class=\"dataframe\">\n",
       "  <thead>\n",
       "    <tr style=\"text-align: right;\">\n",
       "      <th></th>\n",
       "      <th>count</th>\n",
       "      <th>mean</th>\n",
       "    </tr>\n",
       "    <tr>\n",
       "      <th>attraction_id</th>\n",
       "      <th></th>\n",
       "      <th></th>\n",
       "    </tr>\n",
       "  </thead>\n",
       "  <tbody>\n",
       "    <tr>\n",
       "      <th>0</th>\n",
       "      <td>110</td>\n",
       "      <td>4.709091</td>\n",
       "    </tr>\n",
       "    <tr>\n",
       "      <th>1</th>\n",
       "      <td>130</td>\n",
       "      <td>4.746154</td>\n",
       "    </tr>\n",
       "    <tr>\n",
       "      <th>2</th>\n",
       "      <td>150</td>\n",
       "      <td>4.513333</td>\n",
       "    </tr>\n",
       "    <tr>\n",
       "      <th>3</th>\n",
       "      <td>120</td>\n",
       "      <td>4.158333</td>\n",
       "    </tr>\n",
       "    <tr>\n",
       "      <th>4</th>\n",
       "      <td>120</td>\n",
       "      <td>4.650000</td>\n",
       "    </tr>\n",
       "    <tr>\n",
       "      <th>...</th>\n",
       "      <td>...</td>\n",
       "      <td>...</td>\n",
       "    </tr>\n",
       "    <tr>\n",
       "      <th>96</th>\n",
       "      <td>140</td>\n",
       "      <td>4.585714</td>\n",
       "    </tr>\n",
       "    <tr>\n",
       "      <th>97</th>\n",
       "      <td>130</td>\n",
       "      <td>4.184615</td>\n",
       "    </tr>\n",
       "    <tr>\n",
       "      <th>98</th>\n",
       "      <td>120</td>\n",
       "      <td>4.375000</td>\n",
       "    </tr>\n",
       "    <tr>\n",
       "      <th>99</th>\n",
       "      <td>140</td>\n",
       "      <td>4.300000</td>\n",
       "    </tr>\n",
       "    <tr>\n",
       "      <th>100</th>\n",
       "      <td>113</td>\n",
       "      <td>4.292035</td>\n",
       "    </tr>\n",
       "  </tbody>\n",
       "</table>\n",
       "<p>101 rows × 2 columns</p>\n",
       "</div>"
      ],
      "text/plain": [
       "               count      mean\n",
       "attraction_id                 \n",
       "0                110  4.709091\n",
       "1                130  4.746154\n",
       "2                150  4.513333\n",
       "3                120  4.158333\n",
       "4                120  4.650000\n",
       "...              ...       ...\n",
       "96               140  4.585714\n",
       "97               130  4.184615\n",
       "98               120  4.375000\n",
       "99               140  4.300000\n",
       "100              113  4.292035\n",
       "\n",
       "[101 rows x 2 columns]"
      ]
     },
     "execution_count": 40,
     "metadata": {},
     "output_type": "execute_result"
    }
   ],
   "source": [
    "data_sentiment.groupby('attraction_id')['score_user'].agg(f)"
   ]
  }
 ],
 "metadata": {
  "kernelspec": {
   "display_name": "scrap",
   "language": "python",
   "name": "python3"
  },
  "language_info": {
   "codemirror_mode": {
    "name": "ipython",
    "version": 3
   },
   "file_extension": ".py",
   "mimetype": "text/x-python",
   "name": "python",
   "nbconvert_exporter": "python",
   "pygments_lexer": "ipython3",
   "version": "3.10.5"
  }
 },
 "nbformat": 4,
 "nbformat_minor": 2
}
